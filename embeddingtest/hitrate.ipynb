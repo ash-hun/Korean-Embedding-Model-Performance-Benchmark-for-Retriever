{
 "cells": [
  {
   "cell_type": "code",
   "execution_count": 2,
   "metadata": {},
   "outputs": [],
   "source": [
    "from datetime import datetime\n",
    "from langchain.vectorstores.chroma import Chroma\n",
    "from langchain.embeddings.sentence_transformer import SentenceTransformerEmbeddings as STE\n",
    "from embedding import EmbeddingLoader"
   ]
  },
  {
   "cell_type": "code",
   "execution_count": 3,
   "metadata": {},
   "outputs": [],
   "source": [
    "#decorator\n",
    "def checktime(func):\n",
    "    def wrapper(*args, **kwargs):\n",
    "        start_time = datetime.now()\n",
    "        result = func(*args, **kwargs)\n",
    "        end_time = datetime.now()\n",
    "        print(f\"Function call {func.__name__} took {(end_time - start_time).total_seconds()}s to run.\\n\")\n",
    "        return result\n",
    "    return wrapper\n",
    "\n",
    "#get model file from .txt file\n",
    "@checktime\n",
    "def get_hf_model_names() -> list:\n",
    "    try:\n",
    "        with open(file=\"model/model_list.txt\", mode=\"r\", encoding=\"utf-8\") as file:\n",
    "            model_list = [\"model/\"+line.strip() for line in file]\n",
    "    except:\n",
    "        print(\"\"\"file not exsist. check directory or file.\"\"\")\n",
    "\n",
    "    return model_list\n",
    "\n",
    "@checktime\n",
    "def get_collection_names(model_list:list, if_openai=True) -> list:\n",
    "    collection_names = [model_name.split(\"/\")[-1] for model_name in model_list]\n",
    "    if if_openai:\n",
    "        collection_names.append(\"text-embedding-ada-002\")\n",
    "\n",
    "    return collection_names\n",
    "\n",
    "@checktime\n",
    "def loading_hf_embedding(model_path):\n",
    "    memorystore = []\n",
    "    for path in model_path:\n",
    "        memorystore.append(EmbeddingLoader.SentenceTransformerEmbedding(model_name=path, encode_kwargs={'normalize_embeddings': True}).load())\n",
    "\n",
    "    return memorystore"
   ]
  },
  {
   "cell_type": "code",
   "execution_count": 6,
   "metadata": {},
   "outputs": [
    {
     "name": "stdout",
     "output_type": "stream",
     "text": [
      "Function call get_hf_model_names took 0.000511s to run.\n",
      "\n",
      "Function call get_collection_names took 0.0s to run.\n",
      "\n",
      "embedding model in path <model/sentence-transformers/paraphrase-multilingual-mpnet-base-v2> has been loaded successfully.\n",
      "Function call load took 3.253376s to run.\n",
      "\n",
      "embedding model in path <model/sentence-transformers/paraphrase-multilingual-MiniLM-L12-v2> has been loaded successfully.\n",
      "Function call load took 1.733356s to run.\n",
      "\n",
      "embedding model in path <model/sentence-transformers/distiluse-base-multilingual-cased-v2> has been loaded successfully.\n",
      "Function call load took 1.329167s to run.\n",
      "\n",
      "embedding model in path <model/sentence-transformers/stsb-xlm-r-multilingual> has been loaded successfully.\n",
      "Function call load took 3.086755s to run.\n",
      "\n",
      "embedding model in path <model/jhgan/ko-sroberta-multitask> has been loaded successfully.\n",
      "Function call load took 0.976828s to run.\n",
      "\n",
      "embedding model in path <model/snunlp/KR-SBERT-V40K-klueNLI-augSTS> has been loaded successfully.\n",
      "Function call load took 1.054721s to run.\n",
      "\n",
      "embedding model in path <model/bongsoo/moco-sentencedistilbertV2.1> has been loaded successfully.\n",
      "Function call load took 2.837364s to run.\n",
      "\n",
      "embedding model in path <model/bongsoo/kpf-sbert-128d-v1> has been loaded successfully.\n",
      "Function call load took 1.939328s to run.\n",
      "\n",
      "embedding model in path <model/M-CLIP/M-BERT-Distil-40> has been loaded successfully.\n",
      "Function call load took 2.319157s to run.\n",
      "\n",
      "embedding model in path <model/google/canine-c> has been loaded successfully.\n",
      "Function call load took 2.682059s to run.\n",
      "\n",
      "embedding model in path <model/smartmind/roberta-ko-small-tsdae> has been loaded successfully.\n",
      "Function call load took 0.613436s to run.\n",
      "\n",
      "embedding model in path <model/BM-K/KoSimCSE-roberta-multitask> has been loaded successfully.\n",
      "Function call load took 1.96949s to run.\n",
      "\n",
      "Function call loading_hf_embedding took 23.796057s to run.\n",
      "\n",
      "OpenAI Embedding has been activated.\n",
      "Function call load took 0.0s to run.\n",
      "\n"
     ]
    }
   ],
   "source": [
    "### calling(get model names, collections)\n",
    "hf_model_path = get_hf_model_names()\n",
    "collection_names = get_collection_names(hf_model_path)\n",
    "\n",
    "### loading embedding with hf_model_path\n",
    "embedding_memorystore = loading_hf_embedding(hf_model_path) #list 저장\n",
    "\n",
    "### also loading OPENAI Embedding and save\n",
    "openai_embedding = EmbeddingLoader.OpenAIEmbedding().load() #loading OPENAI Embedding(@text-ada-002) object\n",
    "embedding_memorystore.append(openai_embedding) #append openai object"
   ]
  },
  {
   "cell_type": "code",
   "execution_count": null,
   "metadata": {},
   "outputs": [
    {
     "name": "stdout",
     "output_type": "stream",
     "text": [
      "13\n"
     ]
    }
   ],
   "source": [
    "# 12 hf embeddings + openai embedding(@text-ada-002)\n",
    "print(len(embedding_memorystore))\n",
    "#check collection names before launch\n",
    "print(collection_names)"
   ]
  },
  {
   "cell_type": "code",
   "execution_count": 22,
   "metadata": {},
   "outputs": [],
   "source": [
    "def _ab_getter(collection_name:str)->list:\n",
    "    footer = [\"-a\", \"-b\"]\n",
    "    return [collection_name+footer_string for footer_string in footer]"
   ]
  },
  {
   "cell_type": "markdown",
   "metadata": {},
   "source": [
    "#### 여기에서부터 QA query로 넣어서 hitrate 평가(hitrate_test_qa.csv)\n",
    "- k 개수에 따라서 (@3, @5, @10) hitrate 평가 후 csv file로 저장"
   ]
  },
  {
   "cell_type": "code",
   "execution_count": 26,
   "metadata": {},
   "outputs": [
    {
     "name": "stdout",
     "output_type": "stream",
     "text": [
      "with document set <Team A>: paraphrase-multilingual-mpnet-base-v2-a, 1764\n",
      "with document set <Team B>: paraphrase-multilingual-mpnet-base-v2-b, 1307\n",
      "================================================================================ \n",
      "\n",
      "with document set <Team A>: paraphrase-multilingual-MiniLM-L12-v2-a, 1764\n",
      "with document set <Team B>: paraphrase-multilingual-MiniLM-L12-v2-b, 1307\n",
      "================================================================================ \n",
      "\n",
      "with document set <Team A>: distiluse-base-multilingual-cased-v2-a, 2170\n",
      "with document set <Team B>: distiluse-base-multilingual-cased-v2-b, 1596\n",
      "================================================================================ \n",
      "\n",
      "with document set <Team A>: stsb-xlm-r-multilingual-a, 1764\n",
      "with document set <Team B>: stsb-xlm-r-multilingual-b, 1307\n",
      "================================================================================ \n",
      "\n",
      "with document set <Team A>: ko-sroberta-multitask-a, 1732\n",
      "with document set <Team B>: ko-sroberta-multitask-b, 1250\n",
      "================================================================================ \n",
      "\n",
      "with document set <Team A>: KR-SBERT-V40K-klueNLI-augSTS-a, 1476\n",
      "with document set <Team B>: KR-SBERT-V40K-klueNLI-augSTS-b, 1101\n",
      "================================================================================ \n",
      "\n",
      "with document set <Team A>: moco-sentencedistilbertV2.1-a, 868\n",
      "with document set <Team B>: moco-sentencedistilbertV2.1-b, 670\n",
      "================================================================================ \n",
      "\n",
      "with document set <Team A>: kpf-sbert-128d-v1-a, 583\n",
      "with document set <Team B>: kpf-sbert-128d-v1-b, 512\n",
      "================================================================================ \n",
      "\n",
      "with document set <Team A>: M-BERT-Distil-40-a, 673\n",
      "with document set <Team B>: M-BERT-Distil-40-b, 569\n",
      "================================================================================ \n",
      "\n",
      "with document set <Team A>: canine-c-a, 482\n",
      "with document set <Team B>: canine-c-b, 473\n",
      "================================================================================ \n",
      "\n",
      "with document set <Team A>: roberta-ko-small-tsdae-a, 544\n",
      "with document set <Team B>: roberta-ko-small-tsdae-b, 516\n",
      "================================================================================ \n",
      "\n",
      "with document set <Team A>: KoSimCSE-roberta-multitask-a, 588\n",
      "with document set <Team B>: KoSimCSE-roberta-multitask-b, 513\n",
      "================================================================================ \n",
      "\n",
      "with document set <Team A>: text-embedding-ada-002-a, 929\n",
      "with document set <Team B>: text-embedding-ada-002-b, 928\n",
      "================================================================================ \n",
      "\n"
     ]
    }
   ],
   "source": [
    "for embedding_function, collection_name in zip(embedding_memorystore, collection_names):\n",
    "    ab_names = _ab_getter(collection_name=collection_name)\n",
    "\n",
    "    for collection_name_complete in ab_names:\n",
    "        db = Chroma(persist_directory=\"chroma\", collection_name=collection_name_complete, embedding_function=embedding_function)\n",
    "        print(f\"with document set <Team {collection_name_complete[-1].upper()}>: {db._collection.name}, {db._collection.count()}\")\n",
    "\n",
    "        ### 여기 부분에서 평가하면 될듯(함수로 wrap해라.)\n",
    "    print(\"=\"*80,\"\\n\")"
   ]
  },
  {
   "cell_type": "code",
   "execution_count": 25,
   "metadata": {},
   "outputs": [
    {
     "data": {
      "text/plain": [
       "[Document(page_content='. go. kr 입니다.', metadata={'category': '01 생계 지원', 'source': 'data\\\\teamA\\\\01_생계_지원\\\\01_내집_마련_디딤돌대출(주택구입_시).md', 'tag': '주거 대출,노령층,주거 대출,서민금융,청년,주거,1인가구,중장년,주거자금', 'title': '내집 마련 디딤돌대출(주택구입 시)', 'url': 'https://www.bokjiro.go.kr/ssis-tbu/twataa/wlfareInfo/moveTWAT52011M.do?wlfareInfoId=WLF00003271&wlfareInfoReldBztpCd=01'}),\n",
       " Document(page_content=') 혹은 웹사이트 https : / / www. kosaf. go. kr에 접속하여 확인할 수 있다.', metadata={'category': '04 청소년·청년 지원', 'source': 'data\\\\teamA\\\\04_청소년·청년_지원\\\\04_이공계_우수학생_국가장학사업.md', 'tag': '장학금,교육비가 부담될 때(장학금 등 지원),교육,청년', 'title': '이공계 우수학생 국가장학사업', 'url': 'https://www.bokjiro.go.kr/ssis-tbu/twataa/wlfareInfo/moveTWAT52011M.do?wlfareInfoId=WLF00001071&wlfareInfoReldBztpCd=01'}),\n",
       " Document(page_content='##업플라자, 사이트 주소는 http : / / www. seoulwomenventure. or. kr 입니다.', metadata={'category': '02 취업 지원', 'source': 'data\\\\teamA\\\\02_취업_지원\\\\02_여성창업액셀러레이팅.md', 'tag': '청년,창업,여성이 기업 운영을 원할 때,고용,중장년', 'title': '여성창업액셀러레이팅', 'url': ''}),\n",
       " Document(page_content='기존 바닥 위에 건식 난방 배관을 설해 보일러 가동이 가능하도록 지원합니다. 보일러 교체 방법은 노후된 보일러를 에너지효율이 높은 보일러 ( 기름 또는 가스 ) 로 교체 지원합니다. 냉방기기 공사 방법은 벽걸이형 에어컨 등 냉방 물품이 해당됩니다. \" 입니다.', metadata={'category': '01 생계 지원', 'source': 'data\\\\teamA\\\\01_생계_지원\\\\01_저소득층_에너지효율_개선.md', 'tag': '주거환경개선,주거환경개선,저소득층,주거', 'title': '저소득층 에너지효율 개선', 'url': 'https://www.bokjiro.go.kr/ssis-tbu/twataa/wlfareInfo/moveTWAT52011M.do?wlfareInfoId=WLF00001128&wlfareInfoReldBztpCd=01'})]"
      ]
     },
     "execution_count": 25,
     "metadata": {},
     "output_type": "execute_result"
    }
   ],
   "source": [
    "db.similarity_search(query=\"hi\")"
   ]
  }
 ],
 "metadata": {
  "kernelspec": {
   "display_name": "py3.10.13",
   "language": "python",
   "name": "python3"
  },
  "language_info": {
   "codemirror_mode": {
    "name": "ipython",
    "version": 3
   },
   "file_extension": ".py",
   "mimetype": "text/x-python",
   "name": "python",
   "nbconvert_exporter": "python",
   "pygments_lexer": "ipython3",
   "version": "3.10.13"
  }
 },
 "nbformat": 4,
 "nbformat_minor": 2
}
