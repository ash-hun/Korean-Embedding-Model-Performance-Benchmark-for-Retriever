{
 "cells": [
  {
   "cell_type": "code",
   "execution_count": 1,
   "metadata": {},
   "outputs": [
    {
     "name": "stderr",
     "output_type": "stream",
     "text": [
      "c:\\anaconda\\envs\\py3.10.13\\lib\\site-packages\\tqdm\\auto.py:21: TqdmWarning: IProgress not found. Please update jupyter and ipywidgets. See https://ipywidgets.readthedocs.io/en/stable/user_install.html\n",
      "  from .autonotebook import tqdm as notebook_tqdm\n",
      ".gitattributes: 100%|██████████| 690/690 [00:00<?, ?B/s] \n",
      "1_Pooling/config.json: 100%|██████████| 190/190 [00:00<?, ?B/s] \n",
      "README.md: 100%|██████████| 4.10k/4.10k [00:00<?, ?B/s]\n",
      "config.json: 100%|██████████| 723/723 [00:00<00:00, 721kB/s]\n",
      "config_sentence_transformers.json: 100%|██████████| 122/122 [00:00<?, ?B/s] \n",
      "pytorch_model.bin: 100%|██████████| 1.11G/1.11G [01:36<00:00, 11.5MB/s]\n",
      "sentence_bert_config.json: 100%|██████████| 53.0/53.0 [00:00<00:00, 53.0kB/s]\n",
      "sentencepiece.bpe.model: 100%|██████████| 5.07M/5.07M [00:00<00:00, 11.8MB/s]\n",
      "special_tokens_map.json: 100%|██████████| 239/239 [00:00<00:00, 239kB/s]\n",
      "tokenizer.json: 100%|██████████| 9.08M/9.08M [00:01<00:00, 5.13MB/s]\n",
      "tokenizer_config.json: 100%|██████████| 402/402 [00:00<?, ?B/s] \n",
      "modules.json: 100%|██████████| 229/229 [00:00<00:00, 228kB/s]\n"
     ]
    },
    {
     "name": "stdout",
     "output_type": "stream",
     "text": [
      "model sentence-transformers/paraphrase-multilingual-mpnet-base-v2 download at path d:\\PythonWorkSpace\\additional-work\\embeddingtest\\model\\sentence-transformers/paraphrase-multilingual-mpnet-base-v2.\n"
     ]
    }
   ],
   "source": [
    "from downloader import EmbeddingDownLoader\n",
    "## test\n",
    "para = EmbeddingDownLoader(model=\"sentence-transformers/paraphrase-multilingual-mpnet-base-v2\")\n",
    "para.download()"
   ]
  },
  {
   "cell_type": "code",
   "execution_count": null,
   "metadata": {},
   "outputs": [],
   "source": [
    "## bert기반 모델 어떻게 사용할지도 생각해봐야될듯(일단 임시로 .txt 저장해서 불러오는 방식 사용하면 될듯)"
   ]
  }
 ],
 "metadata": {
  "kernelspec": {
   "display_name": "py3.10.13",
   "language": "python",
   "name": "python3"
  },
  "language_info": {
   "codemirror_mode": {
    "name": "ipython",
    "version": 3
   },
   "file_extension": ".py",
   "mimetype": "text/x-python",
   "name": "python",
   "nbconvert_exporter": "python",
   "pygments_lexer": "ipython3",
   "version": "3.10.13"
  }
 },
 "nbformat": 4,
 "nbformat_minor": 2
}
