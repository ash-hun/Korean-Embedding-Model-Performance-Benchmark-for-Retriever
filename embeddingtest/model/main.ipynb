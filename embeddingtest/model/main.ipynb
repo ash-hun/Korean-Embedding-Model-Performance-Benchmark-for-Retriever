{
 "cells": [
  {
   "cell_type": "code",
   "execution_count": 23,
   "metadata": {},
   "outputs": [
    {
     "name": "stdout",
     "output_type": "stream",
     "text": [
      "There are 14 models to download. \n",
      "\n",
      "sentence-transformers/paraphrase-multilingual-mpnet-base-v2\n",
      "sentence-transformers/paraphrase-multilingual-MiniLM-L12-v2\n",
      "sentence-transformers/distiluse-base-multilingual-cased-v2\n",
      "sentence-transformers/stsb-xlm-r-multilingual\n",
      "jhgan/ko-sroberta-multitask\n",
      "snunlp/KR-SBERT-V40K-klueNLI-augSTS\n",
      "bongsoo/moco-sentencedistilbertV2.1\n",
      "bongsoo/kpf-sbert-128d-v1\n",
      "Huffon/sentence-klue-roberta-base\n",
      "intfloat/multilingual-e5-large\n",
      "M-CLIP/M-BERT-Distil-40\n",
      "google/canine-c\n",
      "smartmind/roberta-ko-small-tsdae\n",
      "BM-K/KoSimCSE-roberta-multitask\n"
     ]
    }
   ],
   "source": [
    "# before start, check model sanity\n",
    "with open(file=\"model_list.txt\", mode=\"r\", encoding=\"utf-8\") as file:\n",
    "    model_list = [line.strip() for line in file]\n",
    "\n",
    "print(f\"There are {len(model_list)} models to download. \\n\")\n",
    "for model in model_list:\n",
    "    print(model)"
   ]
  },
  {
   "cell_type": "code",
   "execution_count": null,
   "metadata": {},
   "outputs": [],
   "source": [
    "from downloader import EmbeddingDownLoader\n",
    "\n",
    "for model in model_list:\n",
    "    EmbeddingDownLoader(model=model).download()"
   ]
  },
  {
   "cell_type": "code",
   "execution_count": null,
   "metadata": {},
   "outputs": [],
   "source": [
    "# ## bert기반 모델 어떻게 사용할지도 생각해봐야될듯(일단 임시로 .txt 저장해서 불러오는 방식 사용하면 될듯)\n",
    "# para = EmbeddingDownLoader(model=\"sentence-transformers/paraphrase-multilingual-mpnet-base-v2\")\n",
    "# para.download()"
   ]
  }
 ],
 "metadata": {
  "kernelspec": {
   "display_name": "py3.10.13",
   "language": "python",
   "name": "python3"
  },
  "language_info": {
   "codemirror_mode": {
    "name": "ipython",
    "version": 3
   },
   "file_extension": ".py",
   "mimetype": "text/x-python",
   "name": "python",
   "nbconvert_exporter": "python",
   "pygments_lexer": "ipython3",
   "version": "3.10.13"
  }
 },
 "nbformat": 4,
 "nbformat_minor": 2
}
