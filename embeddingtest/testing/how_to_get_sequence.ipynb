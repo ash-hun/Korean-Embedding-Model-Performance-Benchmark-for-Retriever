{
 "cells": [
  {
   "cell_type": "code",
   "execution_count": 1,
   "metadata": {},
   "outputs": [
    {
     "name": "stdout",
     "output_type": "stream",
     "text": [
      "['sentence-transformers/paraphrase-multilingual-mpnet-base-v2', 'sentence-transformers/paraphrase-multilingual-MiniLM-L12-v2', 'sentence-transformers/distiluse-base-multilingual-cased-v2', 'sentence-transformers/stsb-xlm-r-multilingual', 'jhgan/ko-sroberta-multitask', 'snunlp/KR-SBERT-V40K-klueNLI-augSTS', 'bongsoo/moco-sentencedistilbertV2.1', 'bongsoo/kpf-sbert-128d-v1', 'Huffon/sentence-klue-roberta-base', 'intfloat/multilingual-e5-large', 'M-CLIP/M-BERT-Distil-40', 'google/canine-c', 'smartmind/roberta-ko-small-tsdae', 'BM-K/KoSimCSE-roberta-multitask']\n"
     ]
    }
   ],
   "source": [
    "## Huggingface에서 sequence-length 찾아서 json으로 저장함.\n",
    "\n",
    "with open(file=\"model/model_list.txt\", mode=\"r\", encoding=\"utf-8\") as file:\n",
    "    model_list = [line.strip() for line in file]\n",
    "print(model_list)"
   ]
  },
  {
   "cell_type": "code",
   "execution_count": 2,
   "metadata": {},
   "outputs": [
    {
     "name": "stdout",
     "output_type": "stream",
     "text": [
      "128\n",
      "128\n",
      "128\n",
      "128\n",
      "128\n",
      "128\n",
      "256\n",
      "512\n",
      "512\n",
      "512\n",
      "512\n",
      "2048\n",
      "508\n",
      "512\n"
     ]
    }
   ],
   "source": [
    "#json loading\n",
    "\n",
    "from embedding import EmbeddingLoader\n",
    "import os\n",
    "import json\n",
    "\n",
    "directory = \"model/\"\n",
    "sentence_bert_config = \"sentence_bert_config.json\"\n",
    "\n",
    "for model in model_list:\n",
    "    path = os.path.join(directory, model)\n",
    "    # sentenceloader = EmbeddingLoader.SentenceTransformerEmbedding(model_name=path, multi_process=True, encode_kwargs={'normalize_embeddings':True})\n",
    "    # print(sentenceloader.load())\n",
    "\n",
    "    config_path = os.path.join(path, sentence_bert_config)\n",
    "\n",
    "    with open(config_path) as file :\n",
    "        bert_config = json.load(file)\n",
    "        print(bert_config[\"max_seq_length\"])\n",
    "\n",
    "    \n",
    "### max sequence length model별로 구하기 성공(splitter 이용할 때 쓰면 됨)"
   ]
  },
  {
   "cell_type": "code",
   "execution_count": 3,
   "metadata": {},
   "outputs": [
    {
     "name": "stdout",
     "output_type": "stream",
     "text": [
      "embedding model in path <model/sentence-transformers/paraphrase-multilingual-mpnet-base-v2> has been loaded successfully.\n",
      "Function call load took 10.134794s to run.\n",
      "embedding model in path <model/sentence-transformers/paraphrase-multilingual-MiniLM-L12-v2> has been loaded successfully.\n",
      "Function call load took 2.847911s to run.\n",
      "embedding model in path <model/sentence-transformers/distiluse-base-multilingual-cased-v2> has been loaded successfully.\n",
      "Function call load took 2.156869s to run.\n",
      "embedding model in path <model/sentence-transformers/stsb-xlm-r-multilingual> has been loaded successfully.\n",
      "Function call load took 5.281708s to run.\n",
      "embedding model in path <model/jhgan/ko-sroberta-multitask> has been loaded successfully.\n",
      "Function call load took 2.06875s to run.\n",
      "embedding model in path <model/snunlp/KR-SBERT-V40K-klueNLI-augSTS> has been loaded successfully.\n",
      "Function call load took 1.637417s to run.\n",
      "embedding model in path <model/bongsoo/moco-sentencedistilbertV2.1> has been loaded successfully.\n",
      "Function call load took 2.320338s to run.\n",
      "embedding model in path <model/bongsoo/kpf-sbert-128d-v1> has been loaded successfully.\n",
      "Function call load took 1.660911s to run.\n",
      "embedding model in path <model/Huffon/sentence-klue-roberta-base> has been loaded successfully.\n",
      "Function call load took 1.547382s to run.\n",
      "embedding model in path <model/intfloat/multilingual-e5-large> has been loaded successfully.\n",
      "Function call load took 9.347496s to run.\n",
      "embedding model in path <model/M-CLIP/M-BERT-Distil-40> has been loaded successfully.\n",
      "Function call load took 2.245906s to run.\n",
      "embedding model in path <model/google/canine-c> has been loaded successfully.\n",
      "Function call load took 2.558691s to run.\n",
      "embedding model in path <model/smartmind/roberta-ko-small-tsdae> has been loaded successfully.\n",
      "Function call load took 0.492223s to run.\n",
      "embedding model in path <model/BM-K/KoSimCSE-roberta-multitask> has been loaded successfully.\n",
      "Function call load took 1.53004s to run.\n"
     ]
    }
   ],
   "source": [
    "from embedding import EmbeddingLoader\n",
    "import os\n",
    "\n",
    "path_to_model = \"model/\"\n",
    "\n",
    "for model in model_list:\n",
    "    path = os.path.join(path_to_model, model)\n",
    "    sentenceloader = EmbeddingLoader.SentenceTransformerEmbedding(model_name=path, multi_process=True, encode_kwargs={'normalize_embeddings':True})\n",
    "    sentenceloader.load()\n",
    "    # print(sentenceloader.load())"
   ]
  }
 ],
 "metadata": {
  "kernelspec": {
   "display_name": "py3.10.13",
   "language": "python",
   "name": "python3"
  },
  "language_info": {
   "codemirror_mode": {
    "name": "ipython",
    "version": 3
   },
   "file_extension": ".py",
   "mimetype": "text/x-python",
   "name": "python",
   "nbconvert_exporter": "python",
   "pygments_lexer": "ipython3",
   "version": "3.10.13"
  }
 },
 "nbformat": 4,
 "nbformat_minor": 2
}
