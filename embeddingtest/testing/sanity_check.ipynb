{
 "cells": [
  {
   "cell_type": "code",
   "execution_count": 1,
   "metadata": {},
   "outputs": [],
   "source": [
    "from document.mdLoader import TeamALoader, TeamBLoader"
   ]
  },
  {
   "cell_type": "code",
   "execution_count": 2,
   "metadata": {},
   "outputs": [
    {
     "name": "stdout",
     "output_type": "stream",
     "text": [
      "initialize class takes 0.0 seconds.\n"
     ]
    },
    {
     "name": "stderr",
     "output_type": "stream",
     "text": [
      "  0%|          | 0/41 [00:00<?, ?it/s]"
     ]
    },
    {
     "name": "stderr",
     "output_type": "stream",
     "text": [
      "100%|██████████| 41/41 [00:07<00:00,  5.32it/s]\n",
      "100%|██████████| 36/36 [00:01<00:00, 30.02it/s]\n",
      "100%|██████████| 50/50 [00:01<00:00, 30.73it/s]\n",
      "100%|██████████| 57/57 [00:01<00:00, 31.15it/s]\n",
      "100%|██████████| 27/27 [00:00<00:00, 30.95it/s]\n",
      "100%|██████████| 20/20 [00:00<00:00, 33.30it/s]\n",
      "100%|██████████| 83/83 [00:02<00:00, 30.88it/s]\n",
      "100%|██████████| 40/40 [00:01<00:00, 36.58it/s]\n",
      "100%|██████████| 24/24 [00:00<00:00, 24.03it/s]\n",
      "100%|██████████| 86/86 [00:02<00:00, 30.93it/s]\n"
     ]
    },
    {
     "name": "stdout",
     "output_type": "stream",
     "text": [
      "loading Documents takes 21.679611 seconds.\n",
      "Successfully load documents.\n",
      "464\n"
     ]
    }
   ],
   "source": [
    "loader_a = TeamALoader(path_db=\"data/teamA\", path_metadata=\"document/meta_team_a.json\", path_url_table=\"document/url_table_team_a.csv\")\n",
    "documents_a = loader_a.load(is_split=False, is_regex=False)\n",
    "\n",
    "print(\"Successfully load documents.\")\n",
    "print(len(documents_a))"
   ]
  },
  {
   "cell_type": "code",
   "execution_count": 3,
   "metadata": {},
   "outputs": [
    {
     "name": "stdout",
     "output_type": "stream",
     "text": [
      "initialize class takes 0.0 seconds.\n"
     ]
    },
    {
     "name": "stderr",
     "output_type": "stream",
     "text": [
      "  7%|▋         | 3/41 [00:00<00:01, 27.17it/s]d:\\anaconda\\envs\\langchain\\lib\\site-packages\\unstructured\\documents\\html.py:498: FutureWarning: The behavior of this method will change in future versions. Use specific 'len(elem)' or 'elem is not None' test instead.\n",
      "  rows = body.findall(\"tr\") if body else []\n",
      "100%|██████████| 41/41 [00:01<00:00, 32.20it/s]\n",
      "100%|██████████| 36/36 [00:01<00:00, 35.23it/s]\n",
      "100%|██████████| 50/50 [00:01<00:00, 42.87it/s]\n",
      "100%|██████████| 57/57 [00:01<00:00, 53.00it/s]\n",
      "100%|██████████| 27/27 [00:00<00:00, 33.13it/s]\n",
      "100%|██████████| 20/20 [00:00<00:00, 32.40it/s]\n",
      "100%|██████████| 83/83 [00:02<00:00, 41.20it/s]\n",
      "100%|██████████| 40/40 [00:00<00:00, 46.68it/s]\n",
      "100%|██████████| 24/24 [00:00<00:00, 29.72it/s]\n",
      "100%|██████████| 86/86 [00:02<00:00, 39.59it/s]\n"
     ]
    },
    {
     "name": "stdout",
     "output_type": "stream",
     "text": [
      "loading Documents takes 12.051905 seconds.\n",
      "Successfully load documents.\n",
      "464\n"
     ]
    }
   ],
   "source": [
    "loader_b = TeamBLoader(path_db=\"data/teamB\", path_metadata=\"document/meta_team_b.json\", path_url_table=\"document/url_table_team_b.csv\")\n",
    "documents_b = loader_b.load(is_split=False, is_regex=False)\n",
    "\n",
    "print(\"Successfully load documents.\")\n",
    "print(len(documents_b))"
   ]
  }
 ],
 "metadata": {
  "kernelspec": {
   "display_name": "langchain",
   "language": "python",
   "name": "python3"
  },
  "language_info": {
   "codemirror_mode": {
    "name": "ipython",
    "version": 3
   },
   "file_extension": ".py",
   "mimetype": "text/x-python",
   "name": "python",
   "nbconvert_exporter": "python",
   "pygments_lexer": "ipython3",
   "version": "3.10.13"
  }
 },
 "nbformat": 4,
 "nbformat_minor": 2
}
