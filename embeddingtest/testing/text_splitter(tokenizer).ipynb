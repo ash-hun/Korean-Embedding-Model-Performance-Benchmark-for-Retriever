{
 "cells": [
  {
   "cell_type": "code",
   "execution_count": 1,
   "metadata": {},
   "outputs": [
    {
     "name": "stdout",
     "output_type": "stream",
     "text": [
      "embedding model in path <model/BM-K/KoSimCSE-roberta-multitask/> has been loaded successfully.\n",
      "Function call load took 5.452909s to run.\n",
      "\n",
      "[Document(page_content='국민임대주택 공급\\n\\n국민임대주택 공급의 대상은 입주자 모집공고일 현재 무주택 세대구성원으로서 소득 및 자산보유기준을 충족하는 사람입니다.\\n소득 기준은 도시근로자 월평균소득 70%(1인 가구 90%, 2인 가구 80%) 이하입니다. 또한 자산보유 기준은 총자산이 3억 6100만 원 이하, 자동차 3683만 원 이하입니다.\\n\\n국민임대주택 공급의 내용은 전용면적 60㎡ 이하 주택을 시중 전세시세의 60% 이상 80% 이하 수준으로 저렴하게 임대할 수 있습니다. 최초 2년 계약이며, 2년 단위 재계약 가능하고, 최장 30년 거주 가능합니다.\\n\\n국민임대주택 공급의 신청방법은 사업주체(LH, SH 등)의 모집공고에 따라 입주 신청하시면 됩니다.\\n\\n국민임대주택 공급에 대한 문의는 시군구청, 지방도시공사, LH마이홈으로 하시면 됩니다.\\n지방도시공사는 SH 또는 경기도시공사 등이 있으며, SH의 전화번호는 1600-3456 이고, 경기도시공사의 전화번호는 1588-0466 입니다.\\nLH마이홈의 전화번호는 1600-1004 입니다.', metadata={'source': 'data/teamA/01_생계_지원/01_국민임대주택_공급.md'})]\n",
      "[Document(page_content='국민임대주택 공급 국민임대주택 공급의 대상은 입주자 모집공고일 현재 무주택 세대구성원으로서 소득 및 자산보유기준을 충족하는 사람입니다. 소득 기준은 도시근로자 월평균소득 70 % ( 1인 가구 90 %, 2인 가구 80 % ) 이하입니다. 또한 자산보유 기준은 총자산이 3억 6100만 원 이하, 자동차 3683만 원 이하입니다. 국민임대주택 공급의 내용은 전용면적 60㎡ 이하 주택을 시중 전세시세의 60 % 이상 80 % 이하 수준으로 저렴하게 임대할 수 있습니다. 최초 2년 계약이며, 2년 단위 재계약 가능하고, 최장 30년 거주 가능합니다. 국민임대주택 공급의 신청방법은 사업주체 ( LH, SH 등 ) 의 모집공고에 따라 입주 신청하시면 됩니다. 국민임대주택 공급에 대한 문의는 시군구청, 지방도시공사, LH마이홈으로 하시면 됩니다. 지방도시공사는 SH 또는 경기도시공사 등이 있으며, SH의 전화번호는 1600 - 3456 이고, 경기도시공사의 전화번호는 1588 - 0466 입니다. LH마이홈의 전화번호는 1600 - 1004 입니다.', metadata={'source': 'data/teamA/01_생계_지원/01_국민임대주택_공급.md'})]\n"
     ]
    }
   ],
   "source": [
    "from langchain.text_splitter import SentenceTransformersTokenTextSplitter\n",
    "from langchain.document_loaders import UnstructuredMarkdownLoader\n",
    "from embedding import EmbeddingLoader\n",
    "\n",
    "steloader = EmbeddingLoader.SentenceTransformerEmbedding(model_name=\"model/BM-K/KoSimCSE-roberta-multitask/\", multi_process=True, encode_kwargs={'normalize_embeddings':True})\n",
    "ste_embedding = steloader.load()\n",
    "\n",
    "docloader = UnstructuredMarkdownLoader(file_path=\"data/teamA/01_생계_지원/01_국민임대주택_공급.md\")\n",
    "doc = docloader.load()\n",
    "print(doc) ### 제목 미리 저장해놔야 할듯, BaseDBLoader 수정해라.......\n",
    "\n",
    "splitter = SentenceTransformersTokenTextSplitter(chunk_overlap=10, model_name=\"model/BM-K/KoSimCSE-roberta-multitask/\", tokens_per_chunk=512)\n",
    "print(splitter.split_documents(doc))\n",
    "\n"
   ]
  },
  {
   "cell_type": "code",
   "execution_count": 3,
   "metadata": {},
   "outputs": [],
   "source": [
    "from document.mdLoader import TokenDBLoader, TeamALoader"
   ]
  },
  {
   "cell_type": "code",
   "execution_count": null,
   "metadata": {},
   "outputs": [],
   "source": [
    "testing_loader = TokenDBLoader(path_db=\"data/teamB\", path_metadata=\"document/meta_team_b.json\", path_url_table=\"document/url_table_team_b.csv\", text_splitter=None)\n",
    "testing_loader.text_splitter = splitter\n",
    "\n",
    "test_docs = testing_loader.load(is_split=True,is_regex=False)\n",
    "\n",
    "print(len(test_docs))"
   ]
  },
  {
   "cell_type": "code",
   "execution_count": 4,
   "metadata": {},
   "outputs": [
    {
     "name": "stdout",
     "output_type": "stream",
     "text": [
      "initialize class takes 0.0 seconds.\n"
     ]
    },
    {
     "name": "stderr",
     "output_type": "stream",
     "text": [
      "100%|██████████| 41/41 [00:01<00:00, 24.68it/s]\n",
      "100%|██████████| 36/36 [00:01<00:00, 27.99it/s]\n",
      "100%|██████████| 50/50 [00:01<00:00, 30.10it/s]\n",
      "100%|██████████| 57/57 [00:01<00:00, 30.28it/s]\n",
      "100%|██████████| 27/27 [00:00<00:00, 30.52it/s]\n",
      "100%|██████████| 20/20 [00:00<00:00, 32.45it/s]\n",
      "100%|██████████| 83/83 [00:02<00:00, 31.10it/s]\n",
      "100%|██████████| 40/40 [00:01<00:00, 34.92it/s]\n",
      "100%|██████████| 24/24 [00:01<00:00, 22.93it/s]\n",
      "100%|██████████| 86/86 [00:02<00:00, 30.27it/s]\n"
     ]
    },
    {
     "name": "stdout",
     "output_type": "stream",
     "text": [
      "loading Documents takes 18.333396 seconds.\n",
      "588\n"
     ]
    }
   ],
   "source": [
    "testing_loader = TeamALoader(path_db=\"data/teamA\", path_metadata=\"document/meta_team_a.json\", path_url_table=\"document/url_table_team_a.csv\", text_splitter=None)\n",
    "testing_loader.text_splitter = splitter\n",
    "\n",
    "test_docs = testing_loader.load(is_split=True,is_regex=False)\n",
    "\n",
    "print(len(test_docs))"
   ]
  }
 ],
 "metadata": {
  "kernelspec": {
   "display_name": "langchain",
   "language": "python",
   "name": "python3"
  },
  "language_info": {
   "codemirror_mode": {
    "name": "ipython",
    "version": 3
   },
   "file_extension": ".py",
   "mimetype": "text/x-python",
   "name": "python",
   "nbconvert_exporter": "python",
   "pygments_lexer": "ipython3",
   "version": "3.10.13"
  }
 },
 "nbformat": 4,
 "nbformat_minor": 2
}
