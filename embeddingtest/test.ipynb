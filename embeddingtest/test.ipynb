{
 "cells": [
  {
   "cell_type": "code",
   "execution_count": 1,
   "metadata": {},
   "outputs": [],
   "source": [
    "from langchain.vectorstores.chroma import Chroma\n",
    "from langchain.embeddings import OpenAIEmbeddings\n",
    "from mdLoader import BaseDBLoader\n",
    "from settings import OPENAI_API_KEY\n",
    "\n",
    "open_embedding = OpenAIEmbeddings(api_key=OPENAI_API_KEY)"
   ]
  },
  {
   "cell_type": "code",
   "execution_count": 2,
   "metadata": {},
   "outputs": [
    {
     "name": "stdout",
     "output_type": "stream",
     "text": [
      "initialize class takes 0.0 seconds.\n"
     ]
    },
    {
     "name": "stderr",
     "output_type": "stream",
     "text": [
      "  2%|▏         | 1/41 [00:07<04:47,  7.19s/it]c:\\anaconda\\envs\\py3.10.13\\lib\\site-packages\\unstructured\\documents\\html.py:498: FutureWarning: The behavior of this method will change in future versions. Use specific 'len(elem)' or 'elem is not None' test instead.\n",
      "  rows = body.findall(\"tr\") if body else []\n",
      "100%|██████████| 41/41 [00:08<00:00,  4.83it/s]\n",
      "100%|██████████| 36/36 [00:00<00:00, 45.27it/s]\n",
      "100%|██████████| 50/50 [00:00<00:00, 54.67it/s]\n",
      "100%|██████████| 57/57 [00:00<00:00, 67.94it/s]\n",
      "100%|██████████| 27/27 [00:00<00:00, 41.14it/s]\n",
      "100%|██████████| 20/20 [00:00<00:00, 41.70it/s]\n",
      "100%|██████████| 83/83 [00:01<00:00, 54.81it/s]\n",
      "100%|██████████| 40/40 [00:00<00:00, 60.90it/s]\n",
      "100%|██████████| 24/24 [00:00<00:00, 38.10it/s]\n",
      "100%|██████████| 86/86 [00:01<00:00, 49.72it/s]\n"
     ]
    },
    {
     "name": "stdout",
     "output_type": "stream",
     "text": [
      "loading Documents takes 16.96468 seconds.\n",
      "464\n"
     ]
    }
   ],
   "source": [
    "markdownfiles = BaseDBLoader(path_db=\"teamB\")\n",
    "result_documents = markdownfiles.load(is_split=False, is_regex=True)\n",
    "\n",
    "print(len(result_documents))"
   ]
  },
  {
   "cell_type": "code",
   "execution_count": 35,
   "metadata": {},
   "outputs": [],
   "source": [
    "there_is_no_collection_check = Chroma(collection_name=\"nothing\", persist_directory=\"chroma_storage\")"
   ]
  },
  {
   "cell_type": "code",
   "execution_count": 39,
   "metadata": {},
   "outputs": [
    {
     "data": {
      "text/plain": [
       "0"
      ]
     },
     "execution_count": 39,
     "metadata": {},
     "output_type": "execute_result"
    }
   ],
   "source": [
    "### 없는 경우에는 persist directory로 load 해도 0으로 나옴. 이거 이용해서 if 찍어야 함.\n",
    "there_is_no_collection_check._collection.count()"
   ]
  },
  {
   "cell_type": "code",
   "execution_count": 41,
   "metadata": {},
   "outputs": [
    {
     "name": "stdout",
     "output_type": "stream",
     "text": [
      "heehee\n"
     ]
    }
   ],
   "source": [
    "if not there_is_no_collection_check._collection.count() :\n",
    "    print(\"heehee\")"
   ]
  },
  {
   "cell_type": "code",
   "execution_count": 32,
   "metadata": {},
   "outputs": [],
   "source": [
    "cv = Chroma()"
   ]
  },
  {
   "cell_type": "code",
   "execution_count": 33,
   "metadata": {},
   "outputs": [],
   "source": [
    "jc = cv.from_documents(documents=result_documents, persist_directory=\"chroma_storage\", collection_name=\"OPENAI_TEST\", embedding=open_embedding)"
   ]
  },
  {
   "cell_type": "code",
   "execution_count": 34,
   "metadata": {},
   "outputs": [
    {
     "data": {
      "text/plain": [
       "'OPENAI_TEST'"
      ]
     },
     "execution_count": 34,
     "metadata": {},
     "output_type": "execute_result"
    }
   ],
   "source": [
    "### 불러와서 쓸 때만 따로 변수 지정 해주면 됨. 기본 객체인 Chroma는 그대로\n",
    "jc._collection.name"
   ]
  },
  {
   "cell_type": "code",
   "execution_count": 29,
   "metadata": {},
   "outputs": [],
   "source": [
    "## 이거 걍 load할 때 쓰는거 아닌가?\n",
    "## 맞네 load할때만 쓰는거임 ㅇㅇ.. 생성할때 persist는 왜 주는걸까?\n",
    "chroma = Chroma(collection_name=\"OPENAI_B\", persist_directory=\"chroma_storage\")"
   ]
  },
  {
   "cell_type": "code",
   "execution_count": 30,
   "metadata": {},
   "outputs": [
    {
     "name": "stdout",
     "output_type": "stream",
     "text": [
      "464\n"
     ]
    }
   ],
   "source": [
    "print(chroma._collection.count())"
   ]
  },
  {
   "cell_type": "code",
   "execution_count": 25,
   "metadata": {},
   "outputs": [
    {
     "data": {
      "text/plain": [
       "<langchain.vectorstores.chroma.Chroma at 0x15033acb340>"
      ]
     },
     "execution_count": 25,
     "metadata": {},
     "output_type": "execute_result"
    }
   ],
   "source": [
    "chroma.from_documents(documents=result_documents, embedding=open_embedding, persist_directory=\"chroma_storage\", collection_name=\"OPENAI_B\")"
   ]
  },
  {
   "cell_type": "code",
   "execution_count": 26,
   "metadata": {},
   "outputs": [],
   "source": [
    "chroma.persist()"
   ]
  },
  {
   "cell_type": "code",
   "execution_count": 27,
   "metadata": {},
   "outputs": [
    {
     "name": "stdout",
     "output_type": "stream",
     "text": [
      "464\n"
     ]
    }
   ],
   "source": [
    "print(chroma._collection.count())"
   ]
  },
  {
   "cell_type": "code",
   "execution_count": null,
   "metadata": {},
   "outputs": [],
   "source": []
  }
 ],
 "metadata": {
  "kernelspec": {
   "display_name": "py3.10.13",
   "language": "python",
   "name": "python3"
  },
  "language_info": {
   "codemirror_mode": {
    "name": "ipython",
    "version": 3
   },
   "file_extension": ".py",
   "mimetype": "text/x-python",
   "name": "python",
   "nbconvert_exporter": "python",
   "pygments_lexer": "ipython3",
   "version": "3.10.13"
  }
 },
 "nbformat": 4,
 "nbformat_minor": 2
}
