{
 "cells": [
  {
   "cell_type": "code",
   "execution_count": null,
   "metadata": {},
   "outputs": [],
   "source": [
    "#get model file from .txt file"
   ]
  },
  {
   "cell_type": "code",
   "execution_count": 19,
   "metadata": {},
   "outputs": [],
   "source": [
    "from langchain.vectorstores.chroma import Chroma\n",
    "from langchain.document_loaders import UnstructuredMarkdownLoader, DirectoryLoader\n",
    "from langchain.text_splitter import SentenceTransformersTokenTextSplitter\n",
    "from langchain.embeddings.sentence_transformer import SentenceTransformerEmbeddings as STE"
   ]
  },
  {
   "cell_type": "code",
   "execution_count": 20,
   "metadata": {},
   "outputs": [
    {
     "data": {
      "text/plain": [
       "HuggingFaceEmbeddings(client=SentenceTransformer(\n",
       "  (0): Transformer({'max_seq_length': 512, 'do_lower_case': False}) with Transformer model: RobertaModel \n",
       "  (1): Pooling({'word_embedding_dimension': 768, 'pooling_mode_cls_token': False, 'pooling_mode_mean_tokens': True, 'pooling_mode_max_tokens': False, 'pooling_mode_mean_sqrt_len_tokens': False})\n",
       "), model_name='model/BM-K/KoSimCSE-roberta-multitask', cache_folder=None, model_kwargs={}, encode_kwargs={}, multi_process=False)"
      ]
     },
     "execution_count": 20,
     "metadata": {},
     "output_type": "execute_result"
    }
   ],
   "source": [
    "model_name = \"model/BM-K/KoSimCSE-roberta-multitask\"\n",
    "embeddings = STE(model_name=model_name)\n",
    "\n",
    "embeddings"
   ]
  },
  {
   "cell_type": "code",
   "execution_count": 21,
   "metadata": {},
   "outputs": [],
   "source": [
    "db = Chroma(persist_directory=\"chroma\", collection_name=\"KoSimCSE-roberta-multitask-a\", embedding_function=embeddings)"
   ]
  },
  {
   "cell_type": "code",
   "execution_count": 22,
   "metadata": {},
   "outputs": [
    {
     "data": {
      "text/plain": [
       "'KoSimCSE-roberta-multitask-a'"
      ]
     },
     "execution_count": 22,
     "metadata": {},
     "output_type": "execute_result"
    }
   ],
   "source": [
    "db._collection.name"
   ]
  },
  {
   "cell_type": "code",
   "execution_count": 23,
   "metadata": {},
   "outputs": [
    {
     "data": {
      "text/plain": [
       "588"
      ]
     },
     "execution_count": 23,
     "metadata": {},
     "output_type": "execute_result"
    }
   ],
   "source": [
    "db._collection.count()"
   ]
  },
  {
   "cell_type": "code",
   "execution_count": 25,
   "metadata": {},
   "outputs": [
    {
     "data": {
      "text/plain": [
       "[Document(page_content='. go. kr 입니다.', metadata={'category': '01 생계 지원', 'source': 'data\\\\teamA\\\\01_생계_지원\\\\01_내집_마련_디딤돌대출(주택구입_시).md', 'tag': '주거 대출,노령층,주거 대출,서민금융,청년,주거,1인가구,중장년,주거자금', 'title': '내집 마련 디딤돌대출(주택구입 시)', 'url': 'https://www.bokjiro.go.kr/ssis-tbu/twataa/wlfareInfo/moveTWAT52011M.do?wlfareInfoId=WLF00003271&wlfareInfoReldBztpCd=01'}),\n",
       " Document(page_content=') 혹은 웹사이트 https : / / www. kosaf. go. kr에 접속하여 확인할 수 있다.', metadata={'category': '04 청소년·청년 지원', 'source': 'data\\\\teamA\\\\04_청소년·청년_지원\\\\04_이공계_우수학생_국가장학사업.md', 'tag': '장학금,교육비가 부담될 때(장학금 등 지원),교육,청년', 'title': '이공계 우수학생 국가장학사업', 'url': 'https://www.bokjiro.go.kr/ssis-tbu/twataa/wlfareInfo/moveTWAT52011M.do?wlfareInfoId=WLF00001071&wlfareInfoReldBztpCd=01'}),\n",
       " Document(page_content='##업플라자, 사이트 주소는 http : / / www. seoulwomenventure. or. kr 입니다.', metadata={'category': '02 취업 지원', 'source': 'data\\\\teamA\\\\02_취업_지원\\\\02_여성창업액셀러레이팅.md', 'tag': '청년,창업,여성이 기업 운영을 원할 때,고용,중장년', 'title': '여성창업액셀러레이팅', 'url': ''}),\n",
       " Document(page_content='기존 바닥 위에 건식 난방 배관을 설해 보일러 가동이 가능하도록 지원합니다. 보일러 교체 방법은 노후된 보일러를 에너지효율이 높은 보일러 ( 기름 또는 가스 ) 로 교체 지원합니다. 냉방기기 공사 방법은 벽걸이형 에어컨 등 냉방 물품이 해당됩니다. \" 입니다.', metadata={'category': '01 생계 지원', 'source': 'data\\\\teamA\\\\01_생계_지원\\\\01_저소득층_에너지효율_개선.md', 'tag': '주거환경개선,주거환경개선,저소득층,주거', 'title': '저소득층 에너지효율 개선', 'url': 'https://www.bokjiro.go.kr/ssis-tbu/twataa/wlfareInfo/moveTWAT52011M.do?wlfareInfoId=WLF00001128&wlfareInfoReldBztpCd=01'})]"
      ]
     },
     "execution_count": 25,
     "metadata": {},
     "output_type": "execute_result"
    }
   ],
   "source": [
    "db.similarity_search(query=\"hi\")"
   ]
  },
  {
   "cell_type": "code",
   "execution_count": null,
   "metadata": {},
   "outputs": [],
   "source": []
  }
 ],
 "metadata": {
  "kernelspec": {
   "display_name": "py3.10.13",
   "language": "python",
   "name": "python3"
  },
  "language_info": {
   "codemirror_mode": {
    "name": "ipython",
    "version": 3
   },
   "file_extension": ".py",
   "mimetype": "text/x-python",
   "name": "python",
   "nbconvert_exporter": "python",
   "pygments_lexer": "ipython3",
   "version": "3.10.13"
  }
 },
 "nbformat": 4,
 "nbformat_minor": 2
}
