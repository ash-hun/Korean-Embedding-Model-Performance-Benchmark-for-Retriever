{
 "cells": [
  {
   "cell_type": "markdown",
   "metadata": {},
   "source": [
    "# **Evaluate**"
   ]
  },
  {
   "cell_type": "markdown",
   "metadata": {},
   "source": [
    "    Synthetic Dataset Form을 가지고 진행해야 함.\n",
    "    - Query\n",
    "    - Corpus\n",
    "    - Relavant Docs"
   ]
  },
  {
   "cell_type": "code",
   "execution_count": 1,
   "metadata": {},
   "outputs": [
    {
     "name": "stdout",
     "output_type": "stream",
     "text": [
      "Collecting llama_index\n",
      "  Downloading llama_index-0.9.14.post1-py3-none-any.whl.metadata (8.2 kB)\n",
      "Requirement already satisfied: SQLAlchemy>=1.4.49 in /Users/choejaehun/anaconda3/envs/ssis/lib/python3.10/site-packages (from SQLAlchemy[asyncio]>=1.4.49->llama_index) (2.0.21)\n",
      "Collecting aiohttp<4.0.0,>=3.8.6 (from llama_index)\n",
      "  Using cached aiohttp-3.9.1-cp310-cp310-macosx_11_0_arm64.whl.metadata (7.4 kB)\n",
      "Requirement already satisfied: beautifulsoup4<5.0.0,>=4.12.2 in /Users/choejaehun/anaconda3/envs/ssis/lib/python3.10/site-packages (from llama_index) (4.12.2)\n",
      "Requirement already satisfied: dataclasses-json in /Users/choejaehun/anaconda3/envs/ssis/lib/python3.10/site-packages (from llama_index) (0.6.1)\n",
      "Collecting deprecated>=1.2.9.3 (from llama_index)\n",
      "  Downloading Deprecated-1.2.14-py2.py3-none-any.whl.metadata (5.4 kB)\n",
      "Requirement already satisfied: fsspec>=2023.5.0 in /Users/choejaehun/anaconda3/envs/ssis/lib/python3.10/site-packages (from llama_index) (2023.9.2)\n",
      "Requirement already satisfied: httpx in /Users/choejaehun/anaconda3/envs/ssis/lib/python3.10/site-packages (from llama_index) (0.25.1)\n",
      "Collecting nest-asyncio<2.0.0,>=1.5.8 (from llama_index)\n",
      "  Downloading nest_asyncio-1.5.8-py3-none-any.whl.metadata (2.8 kB)\n",
      "Requirement already satisfied: nltk<4.0.0,>=3.8.1 in /Users/choejaehun/anaconda3/envs/ssis/lib/python3.10/site-packages (from llama_index) (3.8.1)\n",
      "Requirement already satisfied: numpy in /Users/choejaehun/anaconda3/envs/ssis/lib/python3.10/site-packages (from llama_index) (1.26.0)\n",
      "Requirement already satisfied: openai>=1.1.0 in /Users/choejaehun/anaconda3/envs/ssis/lib/python3.10/site-packages (from llama_index) (1.2.0)\n",
      "Requirement already satisfied: pandas in /Users/choejaehun/anaconda3/envs/ssis/lib/python3.10/site-packages (from llama_index) (2.1.1)\n",
      "Requirement already satisfied: requests>=2.31.0 in /Users/choejaehun/anaconda3/envs/ssis/lib/python3.10/site-packages (from llama_index) (2.31.0)\n",
      "Requirement already satisfied: tenacity<9.0.0,>=8.2.0 in /Users/choejaehun/anaconda3/envs/ssis/lib/python3.10/site-packages (from llama_index) (8.2.3)\n",
      "Requirement already satisfied: tiktoken>=0.3.3 in /Users/choejaehun/anaconda3/envs/ssis/lib/python3.10/site-packages (from llama_index) (0.5.1)\n",
      "Requirement already satisfied: typing-extensions>=4.5.0 in /Users/choejaehun/anaconda3/envs/ssis/lib/python3.10/site-packages (from llama_index) (4.8.0)\n",
      "Requirement already satisfied: typing-inspect>=0.8.0 in /Users/choejaehun/anaconda3/envs/ssis/lib/python3.10/site-packages (from llama_index) (0.9.0)\n",
      "Requirement already satisfied: attrs>=17.3.0 in /Users/choejaehun/anaconda3/envs/ssis/lib/python3.10/site-packages (from aiohttp<4.0.0,>=3.8.6->llama_index) (23.1.0)\n",
      "Requirement already satisfied: multidict<7.0,>=4.5 in /Users/choejaehun/anaconda3/envs/ssis/lib/python3.10/site-packages (from aiohttp<4.0.0,>=3.8.6->llama_index) (6.0.4)\n",
      "Requirement already satisfied: yarl<2.0,>=1.0 in /Users/choejaehun/anaconda3/envs/ssis/lib/python3.10/site-packages (from aiohttp<4.0.0,>=3.8.6->llama_index) (1.9.2)\n",
      "Requirement already satisfied: frozenlist>=1.1.1 in /Users/choejaehun/anaconda3/envs/ssis/lib/python3.10/site-packages (from aiohttp<4.0.0,>=3.8.6->llama_index) (1.4.0)\n",
      "Requirement already satisfied: aiosignal>=1.1.2 in /Users/choejaehun/anaconda3/envs/ssis/lib/python3.10/site-packages (from aiohttp<4.0.0,>=3.8.6->llama_index) (1.3.1)\n",
      "Requirement already satisfied: async-timeout<5.0,>=4.0 in /Users/choejaehun/anaconda3/envs/ssis/lib/python3.10/site-packages (from aiohttp<4.0.0,>=3.8.6->llama_index) (4.0.3)\n",
      "Requirement already satisfied: soupsieve>1.2 in /Users/choejaehun/anaconda3/envs/ssis/lib/python3.10/site-packages (from beautifulsoup4<5.0.0,>=4.12.2->llama_index) (2.5)\n",
      "Collecting wrapt<2,>=1.10 (from deprecated>=1.2.9.3->llama_index)\n",
      "  Downloading wrapt-1.16.0-cp310-cp310-macosx_11_0_arm64.whl.metadata (6.6 kB)\n",
      "Requirement already satisfied: click in /Users/choejaehun/anaconda3/envs/ssis/lib/python3.10/site-packages (from nltk<4.0.0,>=3.8.1->llama_index) (8.1.7)\n",
      "Requirement already satisfied: joblib in /Users/choejaehun/anaconda3/envs/ssis/lib/python3.10/site-packages (from nltk<4.0.0,>=3.8.1->llama_index) (1.3.2)\n",
      "Requirement already satisfied: regex>=2021.8.3 in /Users/choejaehun/anaconda3/envs/ssis/lib/python3.10/site-packages (from nltk<4.0.0,>=3.8.1->llama_index) (2023.10.3)\n",
      "Requirement already satisfied: tqdm in /Users/choejaehun/anaconda3/envs/ssis/lib/python3.10/site-packages (from nltk<4.0.0,>=3.8.1->llama_index) (4.66.1)\n",
      "Requirement already satisfied: anyio<4,>=3.5.0 in /Users/choejaehun/anaconda3/envs/ssis/lib/python3.10/site-packages (from openai>=1.1.0->llama_index) (3.7.1)\n",
      "Requirement already satisfied: distro<2,>=1.7.0 in /Users/choejaehun/anaconda3/envs/ssis/lib/python3.10/site-packages (from openai>=1.1.0->llama_index) (1.7.0)\n",
      "Requirement already satisfied: pydantic<3,>=1.9.0 in /Users/choejaehun/anaconda3/envs/ssis/lib/python3.10/site-packages (from openai>=1.1.0->llama_index) (2.4.2)\n",
      "Requirement already satisfied: certifi in /Users/choejaehun/anaconda3/envs/ssis/lib/python3.10/site-packages (from httpx->llama_index) (2023.7.22)\n",
      "Requirement already satisfied: httpcore in /Users/choejaehun/anaconda3/envs/ssis/lib/python3.10/site-packages (from httpx->llama_index) (1.0.1)\n",
      "Requirement already satisfied: idna in /Users/choejaehun/anaconda3/envs/ssis/lib/python3.10/site-packages (from httpx->llama_index) (3.4)\n",
      "Requirement already satisfied: sniffio in /Users/choejaehun/anaconda3/envs/ssis/lib/python3.10/site-packages (from httpx->llama_index) (1.3.0)\n",
      "Requirement already satisfied: charset-normalizer<4,>=2 in /Users/choejaehun/anaconda3/envs/ssis/lib/python3.10/site-packages (from requests>=2.31.0->llama_index) (3.3.0)\n",
      "Requirement already satisfied: urllib3<3,>=1.21.1 in /Users/choejaehun/anaconda3/envs/ssis/lib/python3.10/site-packages (from requests>=2.31.0->llama_index) (2.0.6)\n",
      "Requirement already satisfied: greenlet!=0.4.17 in /Users/choejaehun/anaconda3/envs/ssis/lib/python3.10/site-packages (from SQLAlchemy[asyncio]>=1.4.49->llama_index) (3.0.0)\n",
      "Requirement already satisfied: mypy-extensions>=0.3.0 in /Users/choejaehun/anaconda3/envs/ssis/lib/python3.10/site-packages (from typing-inspect>=0.8.0->llama_index) (1.0.0)\n",
      "Requirement already satisfied: marshmallow<4.0.0,>=3.18.0 in /Users/choejaehun/anaconda3/envs/ssis/lib/python3.10/site-packages (from dataclasses-json->llama_index) (3.20.1)\n",
      "Requirement already satisfied: python-dateutil>=2.8.2 in /Users/choejaehun/anaconda3/envs/ssis/lib/python3.10/site-packages (from pandas->llama_index) (2.8.2)\n",
      "Requirement already satisfied: pytz>=2020.1 in /Users/choejaehun/anaconda3/envs/ssis/lib/python3.10/site-packages (from pandas->llama_index) (2023.3.post1)\n",
      "Requirement already satisfied: tzdata>=2022.1 in /Users/choejaehun/anaconda3/envs/ssis/lib/python3.10/site-packages (from pandas->llama_index) (2023.3)\n",
      "Requirement already satisfied: exceptiongroup in /Users/choejaehun/anaconda3/envs/ssis/lib/python3.10/site-packages (from anyio<4,>=3.5.0->openai>=1.1.0->llama_index) (1.1.3)\n",
      "Requirement already satisfied: packaging>=17.0 in /Users/choejaehun/anaconda3/envs/ssis/lib/python3.10/site-packages (from marshmallow<4.0.0,>=3.18.0->dataclasses-json->llama_index) (23.2)\n",
      "Requirement already satisfied: annotated-types>=0.4.0 in /Users/choejaehun/anaconda3/envs/ssis/lib/python3.10/site-packages (from pydantic<3,>=1.9.0->openai>=1.1.0->llama_index) (0.5.0)\n",
      "Requirement already satisfied: pydantic-core==2.10.1 in /Users/choejaehun/anaconda3/envs/ssis/lib/python3.10/site-packages (from pydantic<3,>=1.9.0->openai>=1.1.0->llama_index) (2.10.1)\n",
      "Requirement already satisfied: six>=1.5 in /Users/choejaehun/anaconda3/envs/ssis/lib/python3.10/site-packages (from python-dateutil>=2.8.2->pandas->llama_index) (1.16.0)\n",
      "Requirement already satisfied: h11<0.15,>=0.13 in /Users/choejaehun/anaconda3/envs/ssis/lib/python3.10/site-packages (from httpcore->httpx->llama_index) (0.14.0)\n",
      "Downloading llama_index-0.9.14.post1-py3-none-any.whl (943 kB)\n",
      "\u001b[2K   \u001b[38;2;114;156;31m━━━━━━━━━━━━━━━━━━━━━━━━━━━━━━━━━━━━━━━━\u001b[0m \u001b[32m943.4/943.4 kB\u001b[0m \u001b[31m3.6 MB/s\u001b[0m eta \u001b[36m0:00:00\u001b[0mm eta \u001b[36m0:00:01\u001b[0m[36m0:00:01\u001b[0m\n",
      "\u001b[?25hUsing cached aiohttp-3.9.1-cp310-cp310-macosx_11_0_arm64.whl (386 kB)\n",
      "Downloading Deprecated-1.2.14-py2.py3-none-any.whl (9.6 kB)\n",
      "Downloading nest_asyncio-1.5.8-py3-none-any.whl (5.3 kB)\n",
      "Downloading wrapt-1.16.0-cp310-cp310-macosx_11_0_arm64.whl (38 kB)\n",
      "Installing collected packages: wrapt, nest-asyncio, deprecated, aiohttp, llama_index\n",
      "  Attempting uninstall: nest-asyncio\n",
      "    Found existing installation: nest-asyncio 1.5.6\n",
      "    Uninstalling nest-asyncio-1.5.6:\n",
      "      Successfully uninstalled nest-asyncio-1.5.6\n",
      "  Attempting uninstall: aiohttp\n",
      "    Found existing installation: aiohttp 3.8.5\n",
      "    Uninstalling aiohttp-3.8.5:\n",
      "      Successfully uninstalled aiohttp-3.8.5\n",
      "Successfully installed aiohttp-3.9.1 deprecated-1.2.14 llama_index-0.9.14.post1 nest-asyncio-1.5.8 wrapt-1.16.0\n",
      "Requirement already satisfied: sentence_transformers in /Users/choejaehun/anaconda3/envs/ssis/lib/python3.10/site-packages (2.2.2)\n",
      "Requirement already satisfied: transformers<5.0.0,>=4.6.0 in /Users/choejaehun/anaconda3/envs/ssis/lib/python3.10/site-packages (from sentence_transformers) (4.34.1)\n",
      "Requirement already satisfied: tqdm in /Users/choejaehun/anaconda3/envs/ssis/lib/python3.10/site-packages (from sentence_transformers) (4.66.1)\n",
      "Requirement already satisfied: torch>=1.6.0 in /Users/choejaehun/anaconda3/envs/ssis/lib/python3.10/site-packages (from sentence_transformers) (2.1.0)\n",
      "Requirement already satisfied: torchvision in /Users/choejaehun/anaconda3/envs/ssis/lib/python3.10/site-packages (from sentence_transformers) (0.16.0)\n",
      "Requirement already satisfied: numpy in /Users/choejaehun/anaconda3/envs/ssis/lib/python3.10/site-packages (from sentence_transformers) (1.26.0)\n",
      "Requirement already satisfied: scikit-learn in /Users/choejaehun/anaconda3/envs/ssis/lib/python3.10/site-packages (from sentence_transformers) (1.3.1)\n",
      "Requirement already satisfied: scipy in /Users/choejaehun/anaconda3/envs/ssis/lib/python3.10/site-packages (from sentence_transformers) (1.11.3)\n",
      "Requirement already satisfied: nltk in /Users/choejaehun/anaconda3/envs/ssis/lib/python3.10/site-packages (from sentence_transformers) (3.8.1)\n",
      "Requirement already satisfied: sentencepiece in /Users/choejaehun/anaconda3/envs/ssis/lib/python3.10/site-packages (from sentence_transformers) (0.1.99)\n",
      "Requirement already satisfied: huggingface-hub>=0.4.0 in /Users/choejaehun/anaconda3/envs/ssis/lib/python3.10/site-packages (from sentence_transformers) (0.16.4)\n",
      "Requirement already satisfied: filelock in /Users/choejaehun/anaconda3/envs/ssis/lib/python3.10/site-packages (from huggingface-hub>=0.4.0->sentence_transformers) (3.12.4)\n",
      "Requirement already satisfied: fsspec in /Users/choejaehun/anaconda3/envs/ssis/lib/python3.10/site-packages (from huggingface-hub>=0.4.0->sentence_transformers) (2023.9.2)\n",
      "Requirement already satisfied: requests in /Users/choejaehun/anaconda3/envs/ssis/lib/python3.10/site-packages (from huggingface-hub>=0.4.0->sentence_transformers) (2.31.0)\n",
      "Requirement already satisfied: pyyaml>=5.1 in /Users/choejaehun/anaconda3/envs/ssis/lib/python3.10/site-packages (from huggingface-hub>=0.4.0->sentence_transformers) (6.0.1)\n",
      "Requirement already satisfied: typing-extensions>=3.7.4.3 in /Users/choejaehun/anaconda3/envs/ssis/lib/python3.10/site-packages (from huggingface-hub>=0.4.0->sentence_transformers) (4.8.0)\n",
      "Requirement already satisfied: packaging>=20.9 in /Users/choejaehun/anaconda3/envs/ssis/lib/python3.10/site-packages (from huggingface-hub>=0.4.0->sentence_transformers) (23.2)\n",
      "Requirement already satisfied: sympy in /Users/choejaehun/anaconda3/envs/ssis/lib/python3.10/site-packages (from torch>=1.6.0->sentence_transformers) (1.12)\n",
      "Requirement already satisfied: networkx in /Users/choejaehun/anaconda3/envs/ssis/lib/python3.10/site-packages (from torch>=1.6.0->sentence_transformers) (3.1)\n",
      "Requirement already satisfied: jinja2 in /Users/choejaehun/anaconda3/envs/ssis/lib/python3.10/site-packages (from torch>=1.6.0->sentence_transformers) (3.1.2)\n",
      "Requirement already satisfied: regex!=2019.12.17 in /Users/choejaehun/anaconda3/envs/ssis/lib/python3.10/site-packages (from transformers<5.0.0,>=4.6.0->sentence_transformers) (2023.10.3)\n",
      "Requirement already satisfied: tokenizers<0.15,>=0.14 in /Users/choejaehun/anaconda3/envs/ssis/lib/python3.10/site-packages (from transformers<5.0.0,>=4.6.0->sentence_transformers) (0.14.0)\n",
      "Requirement already satisfied: safetensors>=0.3.1 in /Users/choejaehun/anaconda3/envs/ssis/lib/python3.10/site-packages (from transformers<5.0.0,>=4.6.0->sentence_transformers) (0.3.3)\n",
      "Requirement already satisfied: click in /Users/choejaehun/anaconda3/envs/ssis/lib/python3.10/site-packages (from nltk->sentence_transformers) (8.1.7)\n",
      "Requirement already satisfied: joblib in /Users/choejaehun/anaconda3/envs/ssis/lib/python3.10/site-packages (from nltk->sentence_transformers) (1.3.2)\n",
      "Requirement already satisfied: threadpoolctl>=2.0.0 in /Users/choejaehun/anaconda3/envs/ssis/lib/python3.10/site-packages (from scikit-learn->sentence_transformers) (3.2.0)\n",
      "Requirement already satisfied: pillow!=8.3.*,>=5.3.0 in /Users/choejaehun/anaconda3/envs/ssis/lib/python3.10/site-packages (from torchvision->sentence_transformers) (10.0.1)\n",
      "Requirement already satisfied: MarkupSafe>=2.0 in /Users/choejaehun/anaconda3/envs/ssis/lib/python3.10/site-packages (from jinja2->torch>=1.6.0->sentence_transformers) (2.1.3)\n",
      "Requirement already satisfied: charset-normalizer<4,>=2 in /Users/choejaehun/anaconda3/envs/ssis/lib/python3.10/site-packages (from requests->huggingface-hub>=0.4.0->sentence_transformers) (3.3.0)\n",
      "Requirement already satisfied: idna<4,>=2.5 in /Users/choejaehun/anaconda3/envs/ssis/lib/python3.10/site-packages (from requests->huggingface-hub>=0.4.0->sentence_transformers) (3.4)\n",
      "Requirement already satisfied: urllib3<3,>=1.21.1 in /Users/choejaehun/anaconda3/envs/ssis/lib/python3.10/site-packages (from requests->huggingface-hub>=0.4.0->sentence_transformers) (2.0.6)\n",
      "Requirement already satisfied: certifi>=2017.4.17 in /Users/choejaehun/anaconda3/envs/ssis/lib/python3.10/site-packages (from requests->huggingface-hub>=0.4.0->sentence_transformers) (2023.7.22)\n",
      "Requirement already satisfied: mpmath>=0.19 in /Users/choejaehun/anaconda3/envs/ssis/lib/python3.10/site-packages (from sympy->torch>=1.6.0->sentence_transformers) (1.3.0)\n"
     ]
    }
   ],
   "source": [
    "# !pip install llama_index\n",
    "# !pip install sentence_transformers"
   ]
  },
  {
   "cell_type": "code",
   "execution_count": 2,
   "metadata": {},
   "outputs": [],
   "source": [
    "import json\n",
    "from tqdm.notebook import tqdm\n",
    "import pandas as pd\n",
    "\n",
    "from llama_index import ServiceContext, VectorStoreIndex\n",
    "from llama_index.schema import TextNode\n",
    "from llama_index.embeddings import OpenAIEmbedding"
   ]
  },
  {
   "cell_type": "code",
   "execution_count": 3,
   "metadata": {},
   "outputs": [],
   "source": [
    "def evaluate(dataset, embed_model, top_k=5, verbose=False):\n",
    "    corpus = dataset['corpus']\n",
    "    queries = dataset['queries']\n",
    "    relevant_docs = dataset['relevant_docs']\n",
    "\n",
    "    service_context = ServiceContext.from_defaults(embed_model=embed_model)\n",
    "    nodes = [TextNode(id_=id_, text=text) for id_, text in corpus.items()]\n",
    "    index = VectorStoreIndex(\n",
    "        nodes,\n",
    "        service_context=service_context,\n",
    "        show_progress=True\n",
    "    )\n",
    "    retriever = index.as_retriever(similarity_top_k=top_k)\n",
    "\n",
    "    eval_results = []\n",
    "    for query_id, query in tqdm(queries.items()):\n",
    "        retrieved_nodes = retriever.retrieve(query)\n",
    "        retrieved_ids = [node.node.node_id for node in retrieved_nodes]\n",
    "        expected_id = relevant_docs[query_id][0]\n",
    "        is_hit = expected_id in retrieved_ids  # assume 1 relevant doc\n",
    "\n",
    "        eval_result = {\n",
    "            'is_hit': is_hit,\n",
    "            'retrieved': retrieved_ids,\n",
    "            'expected': expected_id,\n",
    "            'query': query_id,\n",
    "        }\n",
    "        eval_results.append(eval_result)\n",
    "    return eval_results"
   ]
  },
  {
   "cell_type": "code",
   "execution_count": 4,
   "metadata": {},
   "outputs": [
    {
     "name": "stderr",
     "output_type": "stream",
     "text": [
      "/Users/choejaehun/anaconda3/envs/ssis/lib/python3.10/site-packages/tqdm/auto.py:21: TqdmWarning: IProgress not found. Please update jupyter and ipywidgets. See https://ipywidgets.readthedocs.io/en/stable/user_install.html\n",
      "  from .autonotebook import tqdm as notebook_tqdm\n"
     ]
    }
   ],
   "source": [
    "from sentence_transformers.evaluation import InformationRetrievalEvaluator\n",
    "from sentence_transformers import SentenceTransformer\n",
    "\n",
    "def evaluate_st(dataset, model_id, name):\n",
    "    corpus = dataset['corpus']\n",
    "    queries = dataset['queries']\n",
    "    relevant_docs = dataset['relevant_docs']\n",
    "\n",
    "    evaluator = InformationRetrievalEvaluator(queries, corpus, relevant_docs, name=name)\n",
    "    model = SentenceTransformer(model_id)\n",
    "    return evaluator(model, output_path='results/')"
   ]
  },
  {
   "cell_type": "markdown",
   "metadata": {},
   "source": [
    "# **Run**"
   ]
  },
  {
   "cell_type": "code",
   "execution_count": null,
   "metadata": {},
   "outputs": [],
   "source": [
    "bge = \"local:BM-K/KoSimCSE-roberta-multitask\"\n",
    "### pretrained embedding model config\n",
    "model = SentenceTransformer('BM-K/KoSimCSE-roberta-multitask')\n",
    "results = evaluate(corpus, model)"
   ]
  },
  {
   "cell_type": "code",
   "execution_count": null,
   "metadata": {},
   "outputs": [],
   "source": [
    "df_res = pd.DataFrame(results)"
   ]
  },
  {
   "cell_type": "code",
   "execution_count": null,
   "metadata": {},
   "outputs": [],
   "source": [
    "hit_rate_bge = df_res['is_hit'].mean()\n",
    "hit_rate_bge"
   ]
  },
  {
   "cell_type": "code",
   "execution_count": null,
   "metadata": {},
   "outputs": [],
   "source": [
    "evaluate_st(val_corpus, \"BM-K/KoSimCSE-roberta-multitask\", name='bge')"
   ]
  }
 ],
 "metadata": {
  "kernelspec": {
   "display_name": "ssis",
   "language": "python",
   "name": "python3"
  },
  "language_info": {
   "codemirror_mode": {
    "name": "ipython",
    "version": 3
   },
   "file_extension": ".py",
   "mimetype": "text/x-python",
   "name": "python",
   "nbconvert_exporter": "python",
   "pygments_lexer": "ipython3",
   "version": "3.10.12"
  }
 },
 "nbformat": 4,
 "nbformat_minor": 2
}
