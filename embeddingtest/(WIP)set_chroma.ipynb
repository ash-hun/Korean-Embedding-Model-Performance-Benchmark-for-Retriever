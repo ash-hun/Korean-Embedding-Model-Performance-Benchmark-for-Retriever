{
 "cells": [
  {
   "cell_type": "markdown",
   "metadata": {},
   "source": [
    "#### Setup Chromadb locally(to compare model by score)\n",
    "---\n",
    "### RUN ONLY ONCE IF YOU DON'T HAVE DIRECTORY embeddingtest/chroma"
   ]
  },
  {
   "cell_type": "code",
   "execution_count": 1,
   "metadata": {},
   "outputs": [],
   "source": [
    "def get_hf_model_names() -> list:\n",
    "    try:\n",
    "        with open(file=\"model/model_list.txt\", mode=\"r\", encoding=\"utf-8\") as file:\n",
    "            model_list = [line.strip() for line in file]\n",
    "    except:\n",
    "        print(\"\"\"file not exsist. check directory or file.\"\"\")\n",
    "    return model_list"
   ]
  },
  {
   "cell_type": "code",
   "execution_count": 2,
   "metadata": {},
   "outputs": [],
   "source": [
    "from langchain.vectorstores.chroma import Chroma\n",
    "\n",
    "### from_document method 이용해서 저장(document, embedding, persist_directory, collection_name)\n",
    "#Chroma object 생성.\n",
    "chroma = Chroma()"
   ]
  },
  {
   "cell_type": "code",
   "execution_count": 3,
   "metadata": {},
   "outputs": [
    {
     "name": "stdout",
     "output_type": "stream",
     "text": [
      "initialize class takes 0.0 seconds.\n",
      "initialize class takes 0.0 seconds.\n"
     ]
    }
   ],
   "source": [
    "#Pre-load document\n",
    "from document.mdLoader import TeamALoader, TeamBLoader\n",
    "\n",
    "#document parsing when get max_seq_length -> use in chroma.from_documents()\n",
    "#일단 split 없이 진행하고, chroma db에 넣을 때 sequence에 맞춰서 split 해 줄 것(편의성을 위해 미리 불러온다.)\n",
    "a_loader = TeamALoader(path_db=\"data/teamA\", path_metadata=\"document/meta_team_a.json\", path_url_table=\"document/url_table_team_a.csv\", text_splitter=None)\n",
    "b_loader = TeamBLoader(path_db=\"data/teamB\", path_metadata=\"document/meta_team_b.json\", path_url_table=\"document/url_table_team_b.csv\", text_splitter=None)\n",
    "\n",
    "### splitter 넣어서 하자........... seq 구하고 -> 이건 model loading 필요하니까 결국... loading하고\n",
    "## None으로 시작한 다음에 Splitter 넣어서 돌아가게 하고 다음에 수정해서 하나의 .py로\n",
    "\n",
    "# a_raw_docs = a_loader.load(is_split=False, is_regex=False)\n",
    "# b_raw_docs = b_loader.load(is_split=False, is_regex=True)\n",
    "\n",
    "# print(len(a_raw_docs), len(b_raw_docs))"
   ]
  },
  {
   "cell_type": "code",
   "execution_count": 4,
   "metadata": {},
   "outputs": [],
   "source": [
    "# Embedding Model Loading\n",
    "from embedding import EmbeddingLoader\n",
    "\n",
    "ste_embedding = EmbeddingLoader.SentenceTransformerEmbedding\n",
    "openai_embedding = EmbeddingLoader.OpenAIEmbedding\n",
    "\n",
    "# UseCase\n",
    "# ste_embedding()\n",
    "# openai_embedding()\n",
    "\n",
    "# get model names\n",
    "model_list = get_hf_model_names()"
   ]
  },
  {
   "cell_type": "markdown",
   "metadata": {},
   "source": [
    "#### HuggingFace Embedding Setup"
   ]
  },
  {
   "cell_type": "code",
   "execution_count": 5,
   "metadata": {},
   "outputs": [],
   "source": [
    "from langchain.text_splitter import SentenceTransformersTokenTextSplitter, TokenTextSplitter #STE, OpenAIEmbedding(@text-ada-002)\n",
    "import os\n",
    "import json\n",
    "\n",
    "def set_text_splitter(ste_model, max_seq_length)->SentenceTransformersTokenTextSplitter:\n",
    "    splitter = SentenceTransformersTokenTextSplitter(chunk_overlap=10, model_name=ste_model, tokens_per_chunk=max_seq_length)\n",
    "    return splitter\n",
    "\n",
    "def get_max_seq_length(model_path)->int:\n",
    "    sentence_bert_config = \"sentence_bert_config.json\"\n",
    "    config_path = os.path.join(model_path, sentence_bert_config)\n",
    "\n",
    "    with open(config_path) as file :\n",
    "        bert_config = json.load(file)\n",
    "        \n",
    "    return bert_config[\"max_seq_length\"]"
   ]
  },
  {
   "cell_type": "code",
   "execution_count": 6,
   "metadata": {},
   "outputs": [
    {
     "name": "stdout",
     "output_type": "stream",
     "text": [
      "embedding model in path <model/sentence-transformers/paraphrase-multilingual-mpnet-base-v2> has been loaded successfully.\n",
      "Function call load took 8.349619s to run.\n",
      "\n"
     ]
    },
    {
     "name": "stderr",
     "output_type": "stream",
     "text": [
      "100%|██████████| 41/41 [00:04<00:00,  8.21it/s]\n",
      "100%|██████████| 36/36 [00:01<00:00, 27.30it/s]\n",
      "100%|██████████| 50/50 [00:01<00:00, 29.77it/s]\n",
      "100%|██████████| 57/57 [00:01<00:00, 29.72it/s]\n",
      "100%|██████████| 27/27 [00:00<00:00, 30.88it/s]\n",
      "100%|██████████| 20/20 [00:00<00:00, 31.87it/s]\n",
      "100%|██████████| 83/83 [00:02<00:00, 29.12it/s]\n",
      "100%|██████████| 40/40 [00:01<00:00, 34.32it/s]\n",
      "100%|██████████| 24/24 [00:01<00:00, 22.15it/s]\n",
      "100%|██████████| 86/86 [00:03<00:00, 27.87it/s]\n"
     ]
    },
    {
     "name": "stdout",
     "output_type": "stream",
     "text": [
      "loading Documents takes 22.232275 seconds.\n"
     ]
    },
    {
     "name": "stderr",
     "output_type": "stream",
     "text": [
      "  7%|▋         | 3/41 [00:00<00:01, 25.86it/s]d:\\anaconda\\envs\\langchain\\lib\\site-packages\\unstructured\\documents\\html.py:498: FutureWarning: The behavior of this method will change in future versions. Use specific 'len(elem)' or 'elem is not None' test instead.\n",
      "  rows = body.findall(\"tr\") if body else []\n",
      "100%|██████████| 41/41 [00:01<00:00, 31.10it/s]\n",
      "  8%|▊         | 3/36 [00:00<00:01, 24.22it/s]d:\\anaconda\\envs\\langchain\\lib\\site-packages\\unstructured\\documents\\html.py:498: FutureWarning: The behavior of this method will change in future versions. Use specific 'len(elem)' or 'elem is not None' test instead.\n",
      "  rows = body.findall(\"tr\") if body else []\n",
      "100%|██████████| 36/36 [00:01<00:00, 34.69it/s]\n",
      "  0%|          | 0/50 [00:00<?, ?it/s]d:\\anaconda\\envs\\langchain\\lib\\site-packages\\unstructured\\documents\\html.py:498: FutureWarning: The behavior of this method will change in future versions. Use specific 'len(elem)' or 'elem is not None' test instead.\n",
      "  rows = body.findall(\"tr\") if body else []\n",
      "100%|██████████| 50/50 [00:01<00:00, 43.26it/s]\n",
      "  0%|          | 0/57 [00:00<?, ?it/s]d:\\anaconda\\envs\\langchain\\lib\\site-packages\\unstructured\\documents\\html.py:498: FutureWarning: The behavior of this method will change in future versions. Use specific 'len(elem)' or 'elem is not None' test instead.\n",
      "  rows = body.findall(\"tr\") if body else []\n",
      "100%|██████████| 57/57 [00:01<00:00, 52.78it/s]\n",
      "  0%|          | 0/27 [00:00<?, ?it/s]d:\\anaconda\\envs\\langchain\\lib\\site-packages\\unstructured\\documents\\html.py:498: FutureWarning: The behavior of this method will change in future versions. Use specific 'len(elem)' or 'elem is not None' test instead.\n",
      "  rows = body.findall(\"tr\") if body else []\n",
      "100%|██████████| 27/27 [00:00<00:00, 32.64it/s]\n",
      "  0%|          | 0/20 [00:00<?, ?it/s]d:\\anaconda\\envs\\langchain\\lib\\site-packages\\unstructured\\documents\\html.py:498: FutureWarning: The behavior of this method will change in future versions. Use specific 'len(elem)' or 'elem is not None' test instead.\n",
      "  rows = body.findall(\"tr\") if body else []\n",
      "100%|██████████| 20/20 [00:00<00:00, 31.58it/s]\n",
      "  0%|          | 0/83 [00:00<?, ?it/s]d:\\anaconda\\envs\\langchain\\lib\\site-packages\\unstructured\\documents\\html.py:498: FutureWarning: The behavior of this method will change in future versions. Use specific 'len(elem)' or 'elem is not None' test instead.\n",
      "  rows = body.findall(\"tr\") if body else []\n",
      "100%|██████████| 83/83 [00:01<00:00, 42.82it/s]\n",
      "  0%|          | 0/40 [00:00<?, ?it/s]d:\\anaconda\\envs\\langchain\\lib\\site-packages\\unstructured\\documents\\html.py:498: FutureWarning: The behavior of this method will change in future versions. Use specific 'len(elem)' or 'elem is not None' test instead.\n",
      "  rows = body.findall(\"tr\") if body else []\n",
      "100%|██████████| 40/40 [00:00<00:00, 46.30it/s]\n",
      "  0%|          | 0/24 [00:00<?, ?it/s]d:\\anaconda\\envs\\langchain\\lib\\site-packages\\unstructured\\documents\\html.py:498: FutureWarning: The behavior of this method will change in future versions. Use specific 'len(elem)' or 'elem is not None' test instead.\n",
      "  rows = body.findall(\"tr\") if body else []\n",
      "100%|██████████| 24/24 [00:00<00:00, 28.87it/s]\n",
      "  0%|          | 0/86 [00:00<?, ?it/s]d:\\anaconda\\envs\\langchain\\lib\\site-packages\\unstructured\\documents\\html.py:498: FutureWarning: The behavior of this method will change in future versions. Use specific 'len(elem)' or 'elem is not None' test instead.\n",
      "  rows = body.findall(\"tr\") if body else []\n",
      "100%|██████████| 86/86 [00:02<00:00, 37.94it/s]\n"
     ]
    },
    {
     "name": "stdout",
     "output_type": "stream",
     "text": [
      "loading Documents takes 13.914082 seconds.\n",
      "total document length : 1764, 1307\n",
      "embedding model in path <model/sentence-transformers/paraphrase-multilingual-MiniLM-L12-v2> has been loaded successfully.\n",
      "Function call load took 3.327081s to run.\n",
      "\n"
     ]
    },
    {
     "name": "stderr",
     "output_type": "stream",
     "text": [
      "100%|██████████| 41/41 [00:01<00:00, 25.17it/s]\n",
      "100%|██████████| 36/36 [00:01<00:00, 29.54it/s]\n",
      "100%|██████████| 50/50 [00:01<00:00, 32.75it/s]\n",
      "100%|██████████| 57/57 [00:02<00:00, 27.74it/s]\n",
      "100%|██████████| 27/27 [00:00<00:00, 30.54it/s]\n",
      "100%|██████████| 20/20 [00:00<00:00, 32.30it/s]\n",
      "100%|██████████| 83/83 [00:02<00:00, 30.10it/s]\n",
      "100%|██████████| 40/40 [00:01<00:00, 31.90it/s]\n",
      "100%|██████████| 24/24 [00:01<00:00, 21.26it/s]\n",
      "100%|██████████| 86/86 [00:03<00:00, 28.48it/s]\n"
     ]
    },
    {
     "name": "stdout",
     "output_type": "stream",
     "text": [
      "loading Documents takes 18.811485 seconds.\n"
     ]
    },
    {
     "name": "stderr",
     "output_type": "stream",
     "text": [
      "  7%|▋         | 3/41 [00:00<00:01, 27.63it/s]d:\\anaconda\\envs\\langchain\\lib\\site-packages\\unstructured\\documents\\html.py:498: FutureWarning: The behavior of this method will change in future versions. Use specific 'len(elem)' or 'elem is not None' test instead.\n",
      "  rows = body.findall(\"tr\") if body else []\n",
      "100%|██████████| 41/41 [00:01<00:00, 26.86it/s]\n",
      "  6%|▌         | 2/36 [00:00<00:01, 17.94it/s]d:\\anaconda\\envs\\langchain\\lib\\site-packages\\unstructured\\documents\\html.py:498: FutureWarning: The behavior of this method will change in future versions. Use specific 'len(elem)' or 'elem is not None' test instead.\n",
      "  rows = body.findall(\"tr\") if body else []\n",
      "100%|██████████| 36/36 [00:01<00:00, 31.67it/s]\n",
      "  0%|          | 0/50 [00:00<?, ?it/s]d:\\anaconda\\envs\\langchain\\lib\\site-packages\\unstructured\\documents\\html.py:498: FutureWarning: The behavior of this method will change in future versions. Use specific 'len(elem)' or 'elem is not None' test instead.\n",
      "  rows = body.findall(\"tr\") if body else []\n",
      "100%|██████████| 50/50 [00:01<00:00, 41.71it/s]\n",
      "  0%|          | 0/57 [00:00<?, ?it/s]d:\\anaconda\\envs\\langchain\\lib\\site-packages\\unstructured\\documents\\html.py:498: FutureWarning: The behavior of this method will change in future versions. Use specific 'len(elem)' or 'elem is not None' test instead.\n",
      "  rows = body.findall(\"tr\") if body else []\n",
      "100%|██████████| 57/57 [00:01<00:00, 43.29it/s]\n",
      "  0%|          | 0/27 [00:00<?, ?it/s]d:\\anaconda\\envs\\langchain\\lib\\site-packages\\unstructured\\documents\\html.py:498: FutureWarning: The behavior of this method will change in future versions. Use specific 'len(elem)' or 'elem is not None' test instead.\n",
      "  rows = body.findall(\"tr\") if body else []\n",
      "100%|██████████| 27/27 [00:00<00:00, 28.16it/s]\n",
      "  0%|          | 0/20 [00:00<?, ?it/s]d:\\anaconda\\envs\\langchain\\lib\\site-packages\\unstructured\\documents\\html.py:498: FutureWarning: The behavior of this method will change in future versions. Use specific 'len(elem)' or 'elem is not None' test instead.\n",
      "  rows = body.findall(\"tr\") if body else []\n",
      "100%|██████████| 20/20 [00:00<00:00, 29.08it/s]\n",
      "  0%|          | 0/83 [00:00<?, ?it/s]d:\\anaconda\\envs\\langchain\\lib\\site-packages\\unstructured\\documents\\html.py:498: FutureWarning: The behavior of this method will change in future versions. Use specific 'len(elem)' or 'elem is not None' test instead.\n",
      "  rows = body.findall(\"tr\") if body else []\n",
      "100%|██████████| 83/83 [00:02<00:00, 39.47it/s]\n",
      "  0%|          | 0/40 [00:00<?, ?it/s]d:\\anaconda\\envs\\langchain\\lib\\site-packages\\unstructured\\documents\\html.py:498: FutureWarning: The behavior of this method will change in future versions. Use specific 'len(elem)' or 'elem is not None' test instead.\n",
      "  rows = body.findall(\"tr\") if body else []\n",
      "100%|██████████| 40/40 [00:00<00:00, 43.47it/s]\n",
      "  0%|          | 0/24 [00:00<?, ?it/s]d:\\anaconda\\envs\\langchain\\lib\\site-packages\\unstructured\\documents\\html.py:498: FutureWarning: The behavior of this method will change in future versions. Use specific 'len(elem)' or 'elem is not None' test instead.\n",
      "  rows = body.findall(\"tr\") if body else []\n",
      "100%|██████████| 24/24 [00:00<00:00, 26.58it/s]\n",
      "  0%|          | 0/86 [00:00<?, ?it/s]d:\\anaconda\\envs\\langchain\\lib\\site-packages\\unstructured\\documents\\html.py:498: FutureWarning: The behavior of this method will change in future versions. Use specific 'len(elem)' or 'elem is not None' test instead.\n",
      "  rows = body.findall(\"tr\") if body else []\n",
      "100%|██████████| 86/86 [00:02<00:00, 35.71it/s]\n"
     ]
    },
    {
     "name": "stdout",
     "output_type": "stream",
     "text": [
      "loading Documents takes 15.519225 seconds.\n",
      "total document length : 3528, 2614\n",
      "embedding model in path <model/sentence-transformers/distiluse-base-multilingual-cased-v2> has been loaded successfully.\n",
      "Function call load took 2.190734s to run.\n",
      "\n"
     ]
    },
    {
     "name": "stderr",
     "output_type": "stream",
     "text": [
      "100%|██████████| 41/41 [00:01<00:00, 26.17it/s]\n",
      "100%|██████████| 36/36 [00:01<00:00, 29.59it/s]\n",
      "100%|██████████| 50/50 [00:01<00:00, 29.46it/s]\n",
      "100%|██████████| 57/57 [00:01<00:00, 30.50it/s]\n",
      "100%|██████████| 27/27 [00:00<00:00, 30.55it/s]\n",
      "100%|██████████| 20/20 [00:00<00:00, 33.16it/s]\n",
      "100%|██████████| 83/83 [00:02<00:00, 30.64it/s]\n",
      "100%|██████████| 40/40 [00:01<00:00, 35.02it/s]\n",
      "100%|██████████| 24/24 [00:01<00:00, 22.74it/s]\n",
      "100%|██████████| 86/86 [00:02<00:00, 29.47it/s]\n"
     ]
    },
    {
     "name": "stdout",
     "output_type": "stream",
     "text": [
      "loading Documents takes 18.945396 seconds.\n"
     ]
    },
    {
     "name": "stderr",
     "output_type": "stream",
     "text": [
      "  7%|▋         | 3/41 [00:00<00:01, 28.07it/s]d:\\anaconda\\envs\\langchain\\lib\\site-packages\\unstructured\\documents\\html.py:498: FutureWarning: The behavior of this method will change in future versions. Use specific 'len(elem)' or 'elem is not None' test instead.\n",
      "  rows = body.findall(\"tr\") if body else []\n",
      "100%|██████████| 41/41 [00:01<00:00, 31.33it/s]\n",
      "  8%|▊         | 3/36 [00:00<00:01, 23.34it/s]d:\\anaconda\\envs\\langchain\\lib\\site-packages\\unstructured\\documents\\html.py:498: FutureWarning: The behavior of this method will change in future versions. Use specific 'len(elem)' or 'elem is not None' test instead.\n",
      "  rows = body.findall(\"tr\") if body else []\n",
      "100%|██████████| 36/36 [00:01<00:00, 35.07it/s]\n",
      "  0%|          | 0/50 [00:00<?, ?it/s]d:\\anaconda\\envs\\langchain\\lib\\site-packages\\unstructured\\documents\\html.py:498: FutureWarning: The behavior of this method will change in future versions. Use specific 'len(elem)' or 'elem is not None' test instead.\n",
      "  rows = body.findall(\"tr\") if body else []\n",
      "100%|██████████| 50/50 [00:01<00:00, 44.08it/s]\n",
      "  0%|          | 0/57 [00:00<?, ?it/s]d:\\anaconda\\envs\\langchain\\lib\\site-packages\\unstructured\\documents\\html.py:498: FutureWarning: The behavior of this method will change in future versions. Use specific 'len(elem)' or 'elem is not None' test instead.\n",
      "  rows = body.findall(\"tr\") if body else []\n",
      "100%|██████████| 57/57 [00:01<00:00, 54.48it/s]\n",
      "  0%|          | 0/27 [00:00<?, ?it/s]d:\\anaconda\\envs\\langchain\\lib\\site-packages\\unstructured\\documents\\html.py:498: FutureWarning: The behavior of this method will change in future versions. Use specific 'len(elem)' or 'elem is not None' test instead.\n",
      "  rows = body.findall(\"tr\") if body else []\n",
      "100%|██████████| 27/27 [00:00<00:00, 32.06it/s]\n",
      "  0%|          | 0/20 [00:00<?, ?it/s]d:\\anaconda\\envs\\langchain\\lib\\site-packages\\unstructured\\documents\\html.py:498: FutureWarning: The behavior of this method will change in future versions. Use specific 'len(elem)' or 'elem is not None' test instead.\n",
      "  rows = body.findall(\"tr\") if body else []\n",
      "100%|██████████| 20/20 [00:00<00:00, 31.22it/s]\n",
      "  0%|          | 0/83 [00:00<?, ?it/s]d:\\anaconda\\envs\\langchain\\lib\\site-packages\\unstructured\\documents\\html.py:498: FutureWarning: The behavior of this method will change in future versions. Use specific 'len(elem)' or 'elem is not None' test instead.\n",
      "  rows = body.findall(\"tr\") if body else []\n",
      "100%|██████████| 83/83 [00:01<00:00, 43.07it/s]\n",
      "  0%|          | 0/40 [00:00<?, ?it/s]d:\\anaconda\\envs\\langchain\\lib\\site-packages\\unstructured\\documents\\html.py:498: FutureWarning: The behavior of this method will change in future versions. Use specific 'len(elem)' or 'elem is not None' test instead.\n",
      "  rows = body.findall(\"tr\") if body else []\n",
      "100%|██████████| 40/40 [00:00<00:00, 45.98it/s]\n",
      "  0%|          | 0/24 [00:00<?, ?it/s]d:\\anaconda\\envs\\langchain\\lib\\site-packages\\unstructured\\documents\\html.py:498: FutureWarning: The behavior of this method will change in future versions. Use specific 'len(elem)' or 'elem is not None' test instead.\n",
      "  rows = body.findall(\"tr\") if body else []\n",
      "100%|██████████| 24/24 [00:00<00:00, 28.89it/s]\n",
      "  0%|          | 0/86 [00:00<?, ?it/s]d:\\anaconda\\envs\\langchain\\lib\\site-packages\\unstructured\\documents\\html.py:498: FutureWarning: The behavior of this method will change in future versions. Use specific 'len(elem)' or 'elem is not None' test instead.\n",
      "  rows = body.findall(\"tr\") if body else []\n",
      "100%|██████████| 86/86 [00:02<00:00, 38.06it/s]\n"
     ]
    },
    {
     "name": "stdout",
     "output_type": "stream",
     "text": [
      "loading Documents takes 14.344539 seconds.\n",
      "total document length : 5698, 4210\n",
      "embedding model in path <model/sentence-transformers/stsb-xlm-r-multilingual> has been loaded successfully.\n",
      "Function call load took 4.892215s to run.\n",
      "\n"
     ]
    },
    {
     "name": "stderr",
     "output_type": "stream",
     "text": [
      "100%|██████████| 41/41 [00:01<00:00, 24.69it/s]\n",
      "100%|██████████| 36/36 [00:01<00:00, 28.85it/s]\n",
      "100%|██████████| 50/50 [00:01<00:00, 30.16it/s]\n",
      "100%|██████████| 57/57 [00:02<00:00, 27.60it/s]\n",
      "100%|██████████| 27/27 [00:00<00:00, 30.51it/s]\n",
      "100%|██████████| 20/20 [00:00<00:00, 32.43it/s]\n",
      "100%|██████████| 83/83 [00:02<00:00, 30.37it/s]\n",
      "100%|██████████| 40/40 [00:01<00:00, 35.02it/s]\n",
      "100%|██████████| 24/24 [00:01<00:00, 22.39it/s]\n",
      "100%|██████████| 86/86 [00:02<00:00, 29.67it/s]\n"
     ]
    },
    {
     "name": "stdout",
     "output_type": "stream",
     "text": [
      "loading Documents takes 18.591659 seconds.\n"
     ]
    },
    {
     "name": "stderr",
     "output_type": "stream",
     "text": [
      "  7%|▋         | 3/41 [00:00<00:01, 27.64it/s]d:\\anaconda\\envs\\langchain\\lib\\site-packages\\unstructured\\documents\\html.py:498: FutureWarning: The behavior of this method will change in future versions. Use specific 'len(elem)' or 'elem is not None' test instead.\n",
      "  rows = body.findall(\"tr\") if body else []\n",
      "100%|██████████| 41/41 [00:01<00:00, 31.03it/s]\n",
      "  8%|▊         | 3/36 [00:00<00:01, 24.12it/s]d:\\anaconda\\envs\\langchain\\lib\\site-packages\\unstructured\\documents\\html.py:498: FutureWarning: The behavior of this method will change in future versions. Use specific 'len(elem)' or 'elem is not None' test instead.\n",
      "  rows = body.findall(\"tr\") if body else []\n",
      "100%|██████████| 36/36 [00:01<00:00, 34.99it/s]\n",
      "  0%|          | 0/50 [00:00<?, ?it/s]d:\\anaconda\\envs\\langchain\\lib\\site-packages\\unstructured\\documents\\html.py:498: FutureWarning: The behavior of this method will change in future versions. Use specific 'len(elem)' or 'elem is not None' test instead.\n",
      "  rows = body.findall(\"tr\") if body else []\n",
      "100%|██████████| 50/50 [00:01<00:00, 42.92it/s]\n",
      "  0%|          | 0/57 [00:00<?, ?it/s]d:\\anaconda\\envs\\langchain\\lib\\site-packages\\unstructured\\documents\\html.py:498: FutureWarning: The behavior of this method will change in future versions. Use specific 'len(elem)' or 'elem is not None' test instead.\n",
      "  rows = body.findall(\"tr\") if body else []\n",
      "100%|██████████| 57/57 [00:01<00:00, 51.68it/s]\n",
      "  0%|          | 0/27 [00:00<?, ?it/s]d:\\anaconda\\envs\\langchain\\lib\\site-packages\\unstructured\\documents\\html.py:498: FutureWarning: The behavior of this method will change in future versions. Use specific 'len(elem)' or 'elem is not None' test instead.\n",
      "  rows = body.findall(\"tr\") if body else []\n",
      "100%|██████████| 27/27 [00:00<00:00, 31.72it/s]\n",
      "  0%|          | 0/20 [00:00<?, ?it/s]d:\\anaconda\\envs\\langchain\\lib\\site-packages\\unstructured\\documents\\html.py:498: FutureWarning: The behavior of this method will change in future versions. Use specific 'len(elem)' or 'elem is not None' test instead.\n",
      "  rows = body.findall(\"tr\") if body else []\n",
      "100%|██████████| 20/20 [00:00<00:00, 30.90it/s]\n",
      "  0%|          | 0/83 [00:00<?, ?it/s]d:\\anaconda\\envs\\langchain\\lib\\site-packages\\unstructured\\documents\\html.py:498: FutureWarning: The behavior of this method will change in future versions. Use specific 'len(elem)' or 'elem is not None' test instead.\n",
      "  rows = body.findall(\"tr\") if body else []\n",
      "100%|██████████| 83/83 [00:01<00:00, 42.43it/s]\n",
      "  0%|          | 0/40 [00:00<?, ?it/s]d:\\anaconda\\envs\\langchain\\lib\\site-packages\\unstructured\\documents\\html.py:498: FutureWarning: The behavior of this method will change in future versions. Use specific 'len(elem)' or 'elem is not None' test instead.\n",
      "  rows = body.findall(\"tr\") if body else []\n",
      "100%|██████████| 40/40 [00:00<00:00, 47.64it/s]\n",
      "  0%|          | 0/24 [00:00<?, ?it/s]d:\\anaconda\\envs\\langchain\\lib\\site-packages\\unstructured\\documents\\html.py:498: FutureWarning: The behavior of this method will change in future versions. Use specific 'len(elem)' or 'elem is not None' test instead.\n",
      "  rows = body.findall(\"tr\") if body else []\n",
      "100%|██████████| 24/24 [00:00<00:00, 28.34it/s]\n",
      "  0%|          | 0/86 [00:00<?, ?it/s]d:\\anaconda\\envs\\langchain\\lib\\site-packages\\unstructured\\documents\\html.py:498: FutureWarning: The behavior of this method will change in future versions. Use specific 'len(elem)' or 'elem is not None' test instead.\n",
      "  rows = body.findall(\"tr\") if body else []\n",
      "100%|██████████| 86/86 [00:02<00:00, 37.65it/s]\n"
     ]
    },
    {
     "name": "stdout",
     "output_type": "stream",
     "text": [
      "loading Documents takes 14.053399 seconds.\n",
      "total document length : 7462, 5517\n",
      "embedding model in path <model/jhgan/ko-sroberta-multitask> has been loaded successfully.\n",
      "Function call load took 1.902314s to run.\n",
      "\n"
     ]
    },
    {
     "name": "stderr",
     "output_type": "stream",
     "text": [
      "100%|██████████| 41/41 [00:01<00:00, 26.28it/s]\n",
      "100%|██████████| 36/36 [00:01<00:00, 29.54it/s]\n",
      "100%|██████████| 50/50 [00:01<00:00, 30.26it/s]\n",
      "100%|██████████| 57/57 [00:01<00:00, 30.17it/s]\n",
      "100%|██████████| 27/27 [00:00<00:00, 30.01it/s]\n",
      "100%|██████████| 20/20 [00:00<00:00, 32.91it/s]\n",
      "100%|██████████| 83/83 [00:02<00:00, 31.16it/s]\n",
      "100%|██████████| 40/40 [00:01<00:00, 33.79it/s]\n",
      "100%|██████████| 24/24 [00:01<00:00, 22.50it/s]\n",
      "100%|██████████| 86/86 [00:02<00:00, 29.67it/s]\n"
     ]
    },
    {
     "name": "stdout",
     "output_type": "stream",
     "text": [
      "loading Documents takes 18.34881 seconds.\n"
     ]
    },
    {
     "name": "stderr",
     "output_type": "stream",
     "text": [
      "  7%|▋         | 3/41 [00:00<00:01, 27.90it/s]d:\\anaconda\\envs\\langchain\\lib\\site-packages\\unstructured\\documents\\html.py:498: FutureWarning: The behavior of this method will change in future versions. Use specific 'len(elem)' or 'elem is not None' test instead.\n",
      "  rows = body.findall(\"tr\") if body else []\n",
      "100%|██████████| 41/41 [00:01<00:00, 31.01it/s]\n",
      "  8%|▊         | 3/36 [00:00<00:01, 25.96it/s]d:\\anaconda\\envs\\langchain\\lib\\site-packages\\unstructured\\documents\\html.py:498: FutureWarning: The behavior of this method will change in future versions. Use specific 'len(elem)' or 'elem is not None' test instead.\n",
      "  rows = body.findall(\"tr\") if body else []\n",
      "100%|██████████| 36/36 [00:01<00:00, 34.71it/s]\n",
      "  0%|          | 0/50 [00:00<?, ?it/s]d:\\anaconda\\envs\\langchain\\lib\\site-packages\\unstructured\\documents\\html.py:498: FutureWarning: The behavior of this method will change in future versions. Use specific 'len(elem)' or 'elem is not None' test instead.\n",
      "  rows = body.findall(\"tr\") if body else []\n",
      "100%|██████████| 50/50 [00:01<00:00, 42.79it/s]\n",
      "  0%|          | 0/57 [00:00<?, ?it/s]d:\\anaconda\\envs\\langchain\\lib\\site-packages\\unstructured\\documents\\html.py:498: FutureWarning: The behavior of this method will change in future versions. Use specific 'len(elem)' or 'elem is not None' test instead.\n",
      "  rows = body.findall(\"tr\") if body else []\n",
      "100%|██████████| 57/57 [00:01<00:00, 55.37it/s]\n",
      "  0%|          | 0/27 [00:00<?, ?it/s]d:\\anaconda\\envs\\langchain\\lib\\site-packages\\unstructured\\documents\\html.py:498: FutureWarning: The behavior of this method will change in future versions. Use specific 'len(elem)' or 'elem is not None' test instead.\n",
      "  rows = body.findall(\"tr\") if body else []\n",
      "100%|██████████| 27/27 [00:00<00:00, 30.69it/s]\n",
      "  0%|          | 0/20 [00:00<?, ?it/s]d:\\anaconda\\envs\\langchain\\lib\\site-packages\\unstructured\\documents\\html.py:498: FutureWarning: The behavior of this method will change in future versions. Use specific 'len(elem)' or 'elem is not None' test instead.\n",
      "  rows = body.findall(\"tr\") if body else []\n",
      "100%|██████████| 20/20 [00:00<00:00, 31.27it/s]\n",
      "  0%|          | 0/83 [00:00<?, ?it/s]d:\\anaconda\\envs\\langchain\\lib\\site-packages\\unstructured\\documents\\html.py:498: FutureWarning: The behavior of this method will change in future versions. Use specific 'len(elem)' or 'elem is not None' test instead.\n",
      "  rows = body.findall(\"tr\") if body else []\n",
      "100%|██████████| 83/83 [00:02<00:00, 38.64it/s]\n",
      "  0%|          | 0/40 [00:00<?, ?it/s]d:\\anaconda\\envs\\langchain\\lib\\site-packages\\unstructured\\documents\\html.py:498: FutureWarning: The behavior of this method will change in future versions. Use specific 'len(elem)' or 'elem is not None' test instead.\n",
      "  rows = body.findall(\"tr\") if body else []\n",
      "100%|██████████| 40/40 [00:00<00:00, 46.74it/s]\n",
      "  0%|          | 0/24 [00:00<?, ?it/s]d:\\anaconda\\envs\\langchain\\lib\\site-packages\\unstructured\\documents\\html.py:498: FutureWarning: The behavior of this method will change in future versions. Use specific 'len(elem)' or 'elem is not None' test instead.\n",
      "  rows = body.findall(\"tr\") if body else []\n",
      "100%|██████████| 24/24 [00:00<00:00, 29.75it/s]\n",
      "  0%|          | 0/86 [00:00<?, ?it/s]d:\\anaconda\\envs\\langchain\\lib\\site-packages\\unstructured\\documents\\html.py:498: FutureWarning: The behavior of this method will change in future versions. Use specific 'len(elem)' or 'elem is not None' test instead.\n",
      "  rows = body.findall(\"tr\") if body else []\n",
      "100%|██████████| 86/86 [00:02<00:00, 37.45it/s]\n"
     ]
    },
    {
     "name": "stdout",
     "output_type": "stream",
     "text": [
      "loading Documents takes 14.173156 seconds.\n",
      "total document length : 9194, 6767\n",
      "embedding model in path <model/snunlp/KR-SBERT-V40K-klueNLI-augSTS> has been loaded successfully.\n",
      "Function call load took 1.914585s to run.\n",
      "\n"
     ]
    },
    {
     "name": "stderr",
     "output_type": "stream",
     "text": [
      "100%|██████████| 41/41 [00:01<00:00, 26.29it/s]\n",
      "100%|██████████| 36/36 [00:01<00:00, 28.98it/s]\n",
      "100%|██████████| 50/50 [00:01<00:00, 29.99it/s]\n",
      "100%|██████████| 57/57 [00:01<00:00, 30.32it/s]\n",
      "100%|██████████| 27/27 [00:00<00:00, 31.01it/s]\n",
      "100%|██████████| 20/20 [00:00<00:00, 32.29it/s]\n",
      "100%|██████████| 83/83 [00:02<00:00, 30.58it/s]\n",
      "100%|██████████| 40/40 [00:01<00:00, 34.18it/s]\n",
      "100%|██████████| 24/24 [00:01<00:00, 21.99it/s]\n",
      "100%|██████████| 86/86 [00:02<00:00, 29.27it/s]\n"
     ]
    },
    {
     "name": "stdout",
     "output_type": "stream",
     "text": [
      "loading Documents takes 18.157601 seconds.\n"
     ]
    },
    {
     "name": "stderr",
     "output_type": "stream",
     "text": [
      "  7%|▋         | 3/41 [00:00<00:01, 28.66it/s]d:\\anaconda\\envs\\langchain\\lib\\site-packages\\unstructured\\documents\\html.py:498: FutureWarning: The behavior of this method will change in future versions. Use specific 'len(elem)' or 'elem is not None' test instead.\n",
      "  rows = body.findall(\"tr\") if body else []\n",
      "100%|██████████| 41/41 [00:01<00:00, 31.49it/s]\n",
      "  8%|▊         | 3/36 [00:00<00:01, 23.36it/s]d:\\anaconda\\envs\\langchain\\lib\\site-packages\\unstructured\\documents\\html.py:498: FutureWarning: The behavior of this method will change in future versions. Use specific 'len(elem)' or 'elem is not None' test instead.\n",
      "  rows = body.findall(\"tr\") if body else []\n",
      "100%|██████████| 36/36 [00:01<00:00, 35.13it/s]\n",
      "  0%|          | 0/50 [00:00<?, ?it/s]d:\\anaconda\\envs\\langchain\\lib\\site-packages\\unstructured\\documents\\html.py:498: FutureWarning: The behavior of this method will change in future versions. Use specific 'len(elem)' or 'elem is not None' test instead.\n",
      "  rows = body.findall(\"tr\") if body else []\n",
      "100%|██████████| 50/50 [00:01<00:00, 43.71it/s]\n",
      "  0%|          | 0/57 [00:00<?, ?it/s]d:\\anaconda\\envs\\langchain\\lib\\site-packages\\unstructured\\documents\\html.py:498: FutureWarning: The behavior of this method will change in future versions. Use specific 'len(elem)' or 'elem is not None' test instead.\n",
      "  rows = body.findall(\"tr\") if body else []\n",
      "100%|██████████| 57/57 [00:01<00:00, 56.66it/s]\n",
      "  0%|          | 0/27 [00:00<?, ?it/s]d:\\anaconda\\envs\\langchain\\lib\\site-packages\\unstructured\\documents\\html.py:498: FutureWarning: The behavior of this method will change in future versions. Use specific 'len(elem)' or 'elem is not None' test instead.\n",
      "  rows = body.findall(\"tr\") if body else []\n",
      "100%|██████████| 27/27 [00:00<00:00, 32.57it/s]\n",
      "  0%|          | 0/20 [00:00<?, ?it/s]d:\\anaconda\\envs\\langchain\\lib\\site-packages\\unstructured\\documents\\html.py:498: FutureWarning: The behavior of this method will change in future versions. Use specific 'len(elem)' or 'elem is not None' test instead.\n",
      "  rows = body.findall(\"tr\") if body else []\n",
      "100%|██████████| 20/20 [00:00<00:00, 30.16it/s]\n",
      "  0%|          | 0/83 [00:00<?, ?it/s]d:\\anaconda\\envs\\langchain\\lib\\site-packages\\unstructured\\documents\\html.py:498: FutureWarning: The behavior of this method will change in future versions. Use specific 'len(elem)' or 'elem is not None' test instead.\n",
      "  rows = body.findall(\"tr\") if body else []\n",
      "100%|██████████| 83/83 [00:01<00:00, 43.47it/s]\n",
      "  0%|          | 0/40 [00:00<?, ?it/s]d:\\anaconda\\envs\\langchain\\lib\\site-packages\\unstructured\\documents\\html.py:498: FutureWarning: The behavior of this method will change in future versions. Use specific 'len(elem)' or 'elem is not None' test instead.\n",
      "  rows = body.findall(\"tr\") if body else []\n",
      "100%|██████████| 40/40 [00:00<00:00, 46.69it/s]\n",
      "  0%|          | 0/24 [00:00<?, ?it/s]d:\\anaconda\\envs\\langchain\\lib\\site-packages\\unstructured\\documents\\html.py:498: FutureWarning: The behavior of this method will change in future versions. Use specific 'len(elem)' or 'elem is not None' test instead.\n",
      "  rows = body.findall(\"tr\") if body else []\n",
      "100%|██████████| 24/24 [00:00<00:00, 28.99it/s]\n",
      "  0%|          | 0/86 [00:00<?, ?it/s]d:\\anaconda\\envs\\langchain\\lib\\site-packages\\unstructured\\documents\\html.py:498: FutureWarning: The behavior of this method will change in future versions. Use specific 'len(elem)' or 'elem is not None' test instead.\n",
      "  rows = body.findall(\"tr\") if body else []\n",
      "100%|██████████| 86/86 [00:02<00:00, 37.66it/s]\n"
     ]
    },
    {
     "name": "stdout",
     "output_type": "stream",
     "text": [
      "loading Documents takes 13.616855 seconds.\n",
      "total document length : 10670, 7868\n",
      "embedding model in path <model/bongsoo/moco-sentencedistilbertV2.1> has been loaded successfully.\n",
      "Function call load took 2.55831s to run.\n",
      "\n"
     ]
    },
    {
     "name": "stderr",
     "output_type": "stream",
     "text": [
      "100%|██████████| 41/41 [00:01<00:00, 26.25it/s]\n",
      "100%|██████████| 36/36 [00:01<00:00, 29.67it/s]\n",
      "100%|██████████| 50/50 [00:01<00:00, 29.95it/s]\n",
      "100%|██████████| 57/57 [00:01<00:00, 29.81it/s]\n",
      "100%|██████████| 27/27 [00:00<00:00, 30.54it/s]\n",
      "100%|██████████| 20/20 [00:00<00:00, 31.55it/s]\n",
      "100%|██████████| 83/83 [00:02<00:00, 30.43it/s]\n",
      "100%|██████████| 40/40 [00:01<00:00, 34.72it/s]\n",
      "100%|██████████| 24/24 [00:01<00:00, 22.24it/s]\n",
      "100%|██████████| 86/86 [00:02<00:00, 29.44it/s]\n"
     ]
    },
    {
     "name": "stdout",
     "output_type": "stream",
     "text": [
      "loading Documents takes 18.168328 seconds.\n"
     ]
    },
    {
     "name": "stderr",
     "output_type": "stream",
     "text": [
      "  7%|▋         | 3/41 [00:00<00:01, 28.27it/s]d:\\anaconda\\envs\\langchain\\lib\\site-packages\\unstructured\\documents\\html.py:498: FutureWarning: The behavior of this method will change in future versions. Use specific 'len(elem)' or 'elem is not None' test instead.\n",
      "  rows = body.findall(\"tr\") if body else []\n",
      "100%|██████████| 41/41 [00:01<00:00, 30.34it/s]\n",
      "  8%|▊         | 3/36 [00:00<00:01, 26.25it/s]d:\\anaconda\\envs\\langchain\\lib\\site-packages\\unstructured\\documents\\html.py:498: FutureWarning: The behavior of this method will change in future versions. Use specific 'len(elem)' or 'elem is not None' test instead.\n",
      "  rows = body.findall(\"tr\") if body else []\n",
      "100%|██████████| 36/36 [00:01<00:00, 34.95it/s]\n",
      "  0%|          | 0/50 [00:00<?, ?it/s]d:\\anaconda\\envs\\langchain\\lib\\site-packages\\unstructured\\documents\\html.py:498: FutureWarning: The behavior of this method will change in future versions. Use specific 'len(elem)' or 'elem is not None' test instead.\n",
      "  rows = body.findall(\"tr\") if body else []\n",
      "100%|██████████| 50/50 [00:01<00:00, 42.76it/s]\n",
      "  0%|          | 0/57 [00:00<?, ?it/s]d:\\anaconda\\envs\\langchain\\lib\\site-packages\\unstructured\\documents\\html.py:498: FutureWarning: The behavior of this method will change in future versions. Use specific 'len(elem)' or 'elem is not None' test instead.\n",
      "  rows = body.findall(\"tr\") if body else []\n",
      "100%|██████████| 57/57 [00:01<00:00, 55.07it/s]\n",
      "  0%|          | 0/27 [00:00<?, ?it/s]d:\\anaconda\\envs\\langchain\\lib\\site-packages\\unstructured\\documents\\html.py:498: FutureWarning: The behavior of this method will change in future versions. Use specific 'len(elem)' or 'elem is not None' test instead.\n",
      "  rows = body.findall(\"tr\") if body else []\n",
      "100%|██████████| 27/27 [00:00<00:00, 30.77it/s]\n",
      "  0%|          | 0/20 [00:00<?, ?it/s]d:\\anaconda\\envs\\langchain\\lib\\site-packages\\unstructured\\documents\\html.py:498: FutureWarning: The behavior of this method will change in future versions. Use specific 'len(elem)' or 'elem is not None' test instead.\n",
      "  rows = body.findall(\"tr\") if body else []\n",
      "100%|██████████| 20/20 [00:00<00:00, 30.27it/s]\n",
      "  0%|          | 0/83 [00:00<?, ?it/s]d:\\anaconda\\envs\\langchain\\lib\\site-packages\\unstructured\\documents\\html.py:498: FutureWarning: The behavior of this method will change in future versions. Use specific 'len(elem)' or 'elem is not None' test instead.\n",
      "  rows = body.findall(\"tr\") if body else []\n",
      "100%|██████████| 83/83 [00:01<00:00, 44.97it/s]\n",
      "  0%|          | 0/40 [00:00<?, ?it/s]d:\\anaconda\\envs\\langchain\\lib\\site-packages\\unstructured\\documents\\html.py:498: FutureWarning: The behavior of this method will change in future versions. Use specific 'len(elem)' or 'elem is not None' test instead.\n",
      "  rows = body.findall(\"tr\") if body else []\n",
      "100%|██████████| 40/40 [00:00<00:00, 50.63it/s]\n",
      "  0%|          | 0/24 [00:00<?, ?it/s]d:\\anaconda\\envs\\langchain\\lib\\site-packages\\unstructured\\documents\\html.py:498: FutureWarning: The behavior of this method will change in future versions. Use specific 'len(elem)' or 'elem is not None' test instead.\n",
      "  rows = body.findall(\"tr\") if body else []\n",
      "100%|██████████| 24/24 [00:00<00:00, 31.75it/s]\n",
      "  0%|          | 0/86 [00:00<?, ?it/s]d:\\anaconda\\envs\\langchain\\lib\\site-packages\\unstructured\\documents\\html.py:498: FutureWarning: The behavior of this method will change in future versions. Use specific 'len(elem)' or 'elem is not None' test instead.\n",
      "  rows = body.findall(\"tr\") if body else []\n",
      "100%|██████████| 86/86 [00:02<00:00, 40.91it/s]\n"
     ]
    },
    {
     "name": "stdout",
     "output_type": "stream",
     "text": [
      "loading Documents takes 13.359704 seconds.\n",
      "total document length : 11538, 8538\n",
      "embedding model in path <model/bongsoo/kpf-sbert-128d-v1> has been loaded successfully.\n",
      "Function call load took 1.702122s to run.\n",
      "\n"
     ]
    },
    {
     "name": "stderr",
     "output_type": "stream",
     "text": [
      "100%|██████████| 41/41 [00:01<00:00, 29.57it/s]\n",
      "100%|██████████| 36/36 [00:01<00:00, 33.10it/s]\n",
      "100%|██████████| 50/50 [00:01<00:00, 33.38it/s]\n",
      "100%|██████████| 57/57 [00:01<00:00, 33.53it/s]\n",
      "100%|██████████| 27/27 [00:00<00:00, 33.46it/s]\n",
      "100%|██████████| 20/20 [00:00<00:00, 36.42it/s]\n",
      "100%|██████████| 83/83 [00:02<00:00, 31.31it/s]\n",
      "100%|██████████| 40/40 [00:01<00:00, 38.56it/s]\n",
      "100%|██████████| 24/24 [00:00<00:00, 25.28it/s]\n",
      "100%|██████████| 86/86 [00:02<00:00, 32.51it/s]\n"
     ]
    },
    {
     "name": "stdout",
     "output_type": "stream",
     "text": [
      "loading Documents takes 16.438989 seconds.\n"
     ]
    },
    {
     "name": "stderr",
     "output_type": "stream",
     "text": [
      "  0%|          | 0/41 [00:00<?, ?it/s]d:\\anaconda\\envs\\langchain\\lib\\site-packages\\unstructured\\documents\\html.py:498: FutureWarning: The behavior of this method will change in future versions. Use specific 'len(elem)' or 'elem is not None' test instead.\n",
      "  rows = body.findall(\"tr\") if body else []\n",
      "100%|██████████| 41/41 [00:01<00:00, 35.44it/s]\n",
      "  8%|▊         | 3/36 [00:00<00:01, 28.42it/s]d:\\anaconda\\envs\\langchain\\lib\\site-packages\\unstructured\\documents\\html.py:498: FutureWarning: The behavior of this method will change in future versions. Use specific 'len(elem)' or 'elem is not None' test instead.\n",
      "  rows = body.findall(\"tr\") if body else []\n",
      "100%|██████████| 36/36 [00:00<00:00, 39.89it/s]\n",
      "  0%|          | 0/50 [00:00<?, ?it/s]d:\\anaconda\\envs\\langchain\\lib\\site-packages\\unstructured\\documents\\html.py:498: FutureWarning: The behavior of this method will change in future versions. Use specific 'len(elem)' or 'elem is not None' test instead.\n",
      "  rows = body.findall(\"tr\") if body else []\n",
      "100%|██████████| 50/50 [00:01<00:00, 49.15it/s]\n",
      "  0%|          | 0/57 [00:00<?, ?it/s]d:\\anaconda\\envs\\langchain\\lib\\site-packages\\unstructured\\documents\\html.py:498: FutureWarning: The behavior of this method will change in future versions. Use specific 'len(elem)' or 'elem is not None' test instead.\n",
      "  rows = body.findall(\"tr\") if body else []\n",
      "100%|██████████| 57/57 [00:00<00:00, 63.15it/s]\n",
      "  0%|          | 0/27 [00:00<?, ?it/s]d:\\anaconda\\envs\\langchain\\lib\\site-packages\\unstructured\\documents\\html.py:498: FutureWarning: The behavior of this method will change in future versions. Use specific 'len(elem)' or 'elem is not None' test instead.\n",
      "  rows = body.findall(\"tr\") if body else []\n",
      "100%|██████████| 27/27 [00:00<00:00, 35.90it/s]\n",
      "  0%|          | 0/20 [00:00<?, ?it/s]d:\\anaconda\\envs\\langchain\\lib\\site-packages\\unstructured\\documents\\html.py:498: FutureWarning: The behavior of this method will change in future versions. Use specific 'len(elem)' or 'elem is not None' test instead.\n",
      "  rows = body.findall(\"tr\") if body else []\n",
      "100%|██████████| 20/20 [00:00<00:00, 35.30it/s]\n",
      "  0%|          | 0/83 [00:00<?, ?it/s]d:\\anaconda\\envs\\langchain\\lib\\site-packages\\unstructured\\documents\\html.py:498: FutureWarning: The behavior of this method will change in future versions. Use specific 'len(elem)' or 'elem is not None' test instead.\n",
      "  rows = body.findall(\"tr\") if body else []\n",
      "100%|██████████| 83/83 [00:01<00:00, 49.30it/s]\n",
      "  0%|          | 0/40 [00:00<?, ?it/s]d:\\anaconda\\envs\\langchain\\lib\\site-packages\\unstructured\\documents\\html.py:498: FutureWarning: The behavior of this method will change in future versions. Use specific 'len(elem)' or 'elem is not None' test instead.\n",
      "  rows = body.findall(\"tr\") if body else []\n",
      "100%|██████████| 40/40 [00:00<00:00, 53.05it/s]\n",
      "  0%|          | 0/24 [00:00<?, ?it/s]d:\\anaconda\\envs\\langchain\\lib\\site-packages\\unstructured\\documents\\html.py:498: FutureWarning: The behavior of this method will change in future versions. Use specific 'len(elem)' or 'elem is not None' test instead.\n",
      "  rows = body.findall(\"tr\") if body else []\n",
      "100%|██████████| 24/24 [00:00<00:00, 32.67it/s]\n",
      "  0%|          | 0/86 [00:00<?, ?it/s]d:\\anaconda\\envs\\langchain\\lib\\site-packages\\unstructured\\documents\\html.py:498: FutureWarning: The behavior of this method will change in future versions. Use specific 'len(elem)' or 'elem is not None' test instead.\n",
      "  rows = body.findall(\"tr\") if body else []\n",
      "100%|██████████| 86/86 [00:02<00:00, 42.30it/s]\n"
     ]
    },
    {
     "name": "stdout",
     "output_type": "stream",
     "text": [
      "loading Documents takes 12.049932 seconds.\n",
      "total document length : 12121, 9050\n",
      "embedding model in path <model/Huffon/sentence-klue-roberta-base> has been loaded successfully.\n",
      "Function call load took 1.626192s to run.\n",
      "\n"
     ]
    },
    {
     "name": "stderr",
     "output_type": "stream",
     "text": [
      "100%|██████████| 41/41 [00:01<00:00, 29.35it/s]\n",
      "100%|██████████| 36/36 [00:01<00:00, 32.32it/s]\n",
      "100%|██████████| 50/50 [00:01<00:00, 33.10it/s]\n",
      "100%|██████████| 57/57 [00:01<00:00, 33.34it/s]\n",
      "100%|██████████| 27/27 [00:00<00:00, 33.24it/s]\n",
      "100%|██████████| 20/20 [00:00<00:00, 35.61it/s]\n",
      "100%|██████████| 83/83 [00:02<00:00, 34.02it/s]\n",
      "100%|██████████| 40/40 [00:01<00:00, 38.36it/s]\n",
      "100%|██████████| 24/24 [00:00<00:00, 24.61it/s]\n",
      "100%|██████████| 86/86 [00:02<00:00, 32.70it/s]\n"
     ]
    },
    {
     "name": "stdout",
     "output_type": "stream",
     "text": [
      "loading Documents takes 16.310844 seconds.\n"
     ]
    },
    {
     "name": "stderr",
     "output_type": "stream",
     "text": [
      "  0%|          | 0/41 [00:00<?, ?it/s]d:\\anaconda\\envs\\langchain\\lib\\site-packages\\unstructured\\documents\\html.py:498: FutureWarning: The behavior of this method will change in future versions. Use specific 'len(elem)' or 'elem is not None' test instead.\n",
      "  rows = body.findall(\"tr\") if body else []\n",
      "100%|██████████| 41/41 [00:01<00:00, 35.86it/s]\n",
      "  8%|▊         | 3/36 [00:00<00:01, 29.17it/s]d:\\anaconda\\envs\\langchain\\lib\\site-packages\\unstructured\\documents\\html.py:498: FutureWarning: The behavior of this method will change in future versions. Use specific 'len(elem)' or 'elem is not None' test instead.\n",
      "  rows = body.findall(\"tr\") if body else []\n",
      "100%|██████████| 36/36 [00:00<00:00, 38.99it/s]\n",
      "  0%|          | 0/50 [00:00<?, ?it/s]d:\\anaconda\\envs\\langchain\\lib\\site-packages\\unstructured\\documents\\html.py:498: FutureWarning: The behavior of this method will change in future versions. Use specific 'len(elem)' or 'elem is not None' test instead.\n",
      "  rows = body.findall(\"tr\") if body else []\n",
      "100%|██████████| 50/50 [00:00<00:00, 50.51it/s]\n",
      "  0%|          | 0/57 [00:00<?, ?it/s]d:\\anaconda\\envs\\langchain\\lib\\site-packages\\unstructured\\documents\\html.py:498: FutureWarning: The behavior of this method will change in future versions. Use specific 'len(elem)' or 'elem is not None' test instead.\n",
      "  rows = body.findall(\"tr\") if body else []\n",
      "100%|██████████| 57/57 [00:00<00:00, 65.80it/s]\n",
      "  0%|          | 0/27 [00:00<?, ?it/s]d:\\anaconda\\envs\\langchain\\lib\\site-packages\\unstructured\\documents\\html.py:498: FutureWarning: The behavior of this method will change in future versions. Use specific 'len(elem)' or 'elem is not None' test instead.\n",
      "  rows = body.findall(\"tr\") if body else []\n",
      "100%|██████████| 27/27 [00:00<00:00, 36.30it/s]\n",
      "  0%|          | 0/20 [00:00<?, ?it/s]d:\\anaconda\\envs\\langchain\\lib\\site-packages\\unstructured\\documents\\html.py:498: FutureWarning: The behavior of this method will change in future versions. Use specific 'len(elem)' or 'elem is not None' test instead.\n",
      "  rows = body.findall(\"tr\") if body else []\n",
      "100%|██████████| 20/20 [00:00<00:00, 34.80it/s]\n",
      "  0%|          | 0/83 [00:00<?, ?it/s]d:\\anaconda\\envs\\langchain\\lib\\site-packages\\unstructured\\documents\\html.py:498: FutureWarning: The behavior of this method will change in future versions. Use specific 'len(elem)' or 'elem is not None' test instead.\n",
      "  rows = body.findall(\"tr\") if body else []\n",
      "100%|██████████| 83/83 [00:01<00:00, 49.26it/s]\n",
      "  0%|          | 0/40 [00:00<?, ?it/s]d:\\anaconda\\envs\\langchain\\lib\\site-packages\\unstructured\\documents\\html.py:498: FutureWarning: The behavior of this method will change in future versions. Use specific 'len(elem)' or 'elem is not None' test instead.\n",
      "  rows = body.findall(\"tr\") if body else []\n",
      "100%|██████████| 40/40 [00:00<00:00, 53.21it/s]\n",
      "  0%|          | 0/24 [00:00<?, ?it/s]d:\\anaconda\\envs\\langchain\\lib\\site-packages\\unstructured\\documents\\html.py:498: FutureWarning: The behavior of this method will change in future versions. Use specific 'len(elem)' or 'elem is not None' test instead.\n",
      "  rows = body.findall(\"tr\") if body else []\n",
      "100%|██████████| 24/24 [00:00<00:00, 32.91it/s]\n",
      "  0%|          | 0/86 [00:00<?, ?it/s]d:\\anaconda\\envs\\langchain\\lib\\site-packages\\unstructured\\documents\\html.py:498: FutureWarning: The behavior of this method will change in future versions. Use specific 'len(elem)' or 'elem is not None' test instead.\n",
      "  rows = body.findall(\"tr\") if body else []\n",
      "100%|██████████| 86/86 [00:02<00:00, 42.72it/s]\n"
     ]
    },
    {
     "name": "stdout",
     "output_type": "stream",
     "text": [
      "loading Documents takes 11.9914 seconds.\n",
      "total document length : 12709, 9563\n"
     ]
    }
   ],
   "source": [
    "## HuggingFaceEmbedding Setup\n",
    "\n",
    "import os\n",
    "import json\n",
    "\n",
    "directory = \"model/\"\n",
    "sentence_bert_config = \"sentence_bert_config.json\"\n",
    "\n",
    "for model in model_list:\n",
    "    # load model from locally saved HuggingFace model\n",
    "    model_path = os.path.join(directory, model)\n",
    "    \n",
    "    sentenceloader = ste_embedding(model_name=model_path, multi_process=True, encode_kwargs={'normalize_embeddings':True})\n",
    "    embedding_model = sentenceloader.load()\n",
    "\n",
    "    max_seq_length = get_max_seq_length(model_path=model_path)\n",
    "    text_splitter = set_text_splitter(model_path, max_seq_length=max_seq_length)\n",
    "\n",
    "    a_loader.text_splitter = text_splitter\n",
    "    b_loader.text_splitter = text_splitter\n",
    "\n",
    "    a_raw_docs = a_loader.load(is_split=True, is_regex=False)\n",
    "    b_raw_docs = b_loader.load(is_split=True, is_regex=True)\n",
    "\n",
    "    print(f\"total document length : {len(a_raw_docs)}, {len(b_raw_docs)}\")\n",
    "\n",
    "    # get max sequence length from embedding model\n",
    "    config_path = os.path.join(model_path, sentence_bert_config)\n",
    "    with open(config_path) as file :\n",
    "        bert_config = json.load(file)\n",
    "        max_seq_length = bert_config[\"max_seq_length\"]\n",
    "\n",
    "    print(f\"max sequence from current model({model_path}) is {max_seq_length}.\")\n",
    "\n",
    "    # set model name(cause collection name length limit)\n",
    "    model_name = model.split(\"/\")[-1]\n",
    "\n",
    "    # save document with chunk - embedding calculate and save it to persist directory\n",
    "    collection_a = chroma.from_documents(documents=a_raw_docs, embedding=embedding_model, collection_name=model_name+\"-a\", collection_metadata={\"hnsw:space\":\"cosine\"}, persist_directory=\"chroma\")\n",
    "    collection_a.persist()\n",
    "\n",
    "    print(collection_a._collection)\n",
    "\n",
    "    collection_b = chroma.from_documents(documents=b_raw_docs, embedding=embedding_model, collection_name=model_name+\"-b\", collection_metadata={\"hnsw:space\":\"cosine\"}, persist_directory=\"chroma\")\n",
    "    collection_b.persist\n",
    "\n",
    "    print(collection_b._collection)"
   ]
  },
  {
   "cell_type": "markdown",
   "metadata": {},
   "source": [
    "#### OpenAI Embedding Setup"
   ]
  },
  {
   "cell_type": "code",
   "execution_count": null,
   "metadata": {},
   "outputs": [],
   "source": [
    "### 여기도 max sequence 찾아서 해야 할 듯......"
   ]
  },
  {
   "cell_type": "code",
   "execution_count": null,
   "metadata": {},
   "outputs": [
    {
     "name": "stdout",
     "output_type": "stream",
     "text": [
      "OpenAI Embedding has been activated.\n",
      "Function call load took 0.0s to run.\n",
      "\n",
      "<langchain.text_splitter.TokenTextSplitter object at 0x0000017CD7ED8880>\n"
     ]
    },
    {
     "data": {
      "text/plain": [
       "200"
      ]
     },
     "execution_count": 17,
     "metadata": {},
     "output_type": "execute_result"
    }
   ],
   "source": [
    "\n",
    "\n",
    "loader = openai_embedding()\n",
    "emb_openai = loader.load()\n",
    "\n",
    "openai_text_splitter = TokenTextSplitter.from_tiktoken_encoder(\n",
    "    model_name=emb_openai.model\n",
    ")\n",
    "\n",
    "a_loader.text_splitter = openai_text_splitter\n",
    "b_loader.text_splitter = openai_text_splitter\n",
    "\n",
    "a_raw_docs = a_loader.load(is_split=True, is_regex=False)\n",
    "b_raw_docs = b_loader.load(is_split=True, is_regex=True)\n",
    "\n",
    "chroma.from_documents(documents=a_raw_docs, embedding=emb_openai, collection_name=emb_openai.model+\"-a\", collection_metadata={\"hnsw:space\":\"cosine\"}, persist_directory=\"chroma\")\n",
    "chroma.from_documents(documents=b_raw_docs, embedding=emb_openai, collection_name=emb_openai.model+\"-b\", collection_metadata={\"hnsw:space\":\"cosine\"}, persist_directory=\"chroma\")"
   ]
  },
  {
   "cell_type": "markdown",
   "metadata": {},
   "source": [
    "#### test"
   ]
  },
  {
   "cell_type": "code",
   "execution_count": null,
   "metadata": {},
   "outputs": [],
   "source": []
  },
  {
   "cell_type": "code",
   "execution_count": null,
   "metadata": {},
   "outputs": [],
   "source": []
  }
 ],
 "metadata": {
  "kernelspec": {
   "display_name": "py3.10.13",
   "language": "python",
   "name": "python3"
  },
  "language_info": {
   "codemirror_mode": {
    "name": "ipython",
    "version": 3
   },
   "file_extension": ".py",
   "mimetype": "text/x-python",
   "name": "python",
   "nbconvert_exporter": "python",
   "pygments_lexer": "ipython3",
   "version": "3.10.13"
  }
 },
 "nbformat": 4,
 "nbformat_minor": 2
}
