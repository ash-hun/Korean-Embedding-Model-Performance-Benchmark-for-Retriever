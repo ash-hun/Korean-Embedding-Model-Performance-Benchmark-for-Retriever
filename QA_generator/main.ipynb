{
 "cells": [
  {
   "cell_type": "code",
   "execution_count": 1,
   "metadata": {},
   "outputs": [],
   "source": [
    "import os\n",
    "import pandas as pd\n",
    "# path_to_data = \"generated_synthetic_data\"\n",
    "\n",
    "# merged_data = pd.DataFrame()\n",
    "\n",
    "# for csv_file in os.listdir(path_to_data):\n",
    "#     loaded = pd.read_csv(os.path.join(path_to_data, csv_file), encoding=\"utf-8\")\n",
    "#     merged_data = pd.concat([merged_data, loaded], ignore_index=True)\n",
    "\n",
    "# print(\"Total Dataset length :\",len(merged_data))\n",
    "\n",
    "# merged_data.to_csv(\"generated_synthetic_data/QA_total.csv\", sep=\",\", index=False, encoding=\"utf-8\")"
   ]
  },
  {
   "cell_type": "code",
   "execution_count": 2,
   "metadata": {},
   "outputs": [
    {
     "name": "stdout",
     "output_type": "stream",
     "text": [
      "9547\n"
     ]
    }
   ],
   "source": [
    "total_qa = pd.read_csv(\"generated_synthetic_data/QA_total.csv\")\n",
    "print(len(total_qa))"
   ]
  },
  {
   "cell_type": "code",
   "execution_count": 10,
   "metadata": {},
   "outputs": [
    {
     "name": "stdout",
     "output_type": "stream",
     "text": [
      "460\n"
     ]
    }
   ],
   "source": [
    "import random\n",
    "\n",
    "documents = total_qa[\"Documents\"]\n",
    "print(len(documents.unique())) #제도 개수\n",
    "unique_category = documents.unique()\n",
    "\n",
    "# random으로 제도에서 질문 하나씩 뽑기\n",
    "selected_items = []\n",
    "\n",
    "for document in unique_category:\n",
    "    filtered_df = total_qa[total_qa[\"Documents\"] == document]\n",
    "\n",
    "    random_row = random.choice(filtered_df.index)\n",
    "    selected_items.append(total_qa.loc[random_row])\n"
   ]
  },
  {
   "cell_type": "code",
   "execution_count": 16,
   "metadata": {},
   "outputs": [
    {
     "name": "stdout",
     "output_type": "stream",
     "text": [
      "460\n"
     ]
    }
   ],
   "source": [
    "print(len(selected_items)) # -> 제도별로 460개 뽑음\n",
    "\n",
    "\n",
    "selected_items_df = pd.DataFrame(selected_items)\n",
    "selected_items_df.reset_index(drop=True, inplace=True)"
   ]
  },
  {
   "cell_type": "code",
   "execution_count": 17,
   "metadata": {},
   "outputs": [
    {
     "data": {
      "text/html": [
       "<div>\n",
       "<style scoped>\n",
       "    .dataframe tbody tr th:only-of-type {\n",
       "        vertical-align: middle;\n",
       "    }\n",
       "\n",
       "    .dataframe tbody tr th {\n",
       "        vertical-align: top;\n",
       "    }\n",
       "\n",
       "    .dataframe thead th {\n",
       "        text-align: right;\n",
       "    }\n",
       "</style>\n",
       "<table border=\"1\" class=\"dataframe\">\n",
       "  <thead>\n",
       "    <tr style=\"text-align: right;\">\n",
       "      <th></th>\n",
       "      <th>Question</th>\n",
       "      <th>Answer</th>\n",
       "      <th>Documents</th>\n",
       "    </tr>\n",
       "  </thead>\n",
       "  <tbody>\n",
       "    <tr>\n",
       "      <th>0</th>\n",
       "      <td>LPG용기를 쓰는 우리 집을 위한 시설 개선 신청은 어디서 할 수 있을까요?</td>\n",
       "      <td>귀하의 가정을 위한 LPG용기 시설 개선 신청은 가장 가까운 읍면동 주민센터(행정복...</td>\n",
       "      <td>LPG용기 사용가구 시설개선</td>\n",
       "    </tr>\n",
       "    <tr>\n",
       "      <th>1</th>\n",
       "      <td>가사, 간병 방문 지원사업이 1년 후에 종료되면, 다시 신청할 수 있나요?</td>\n",
       "      <td>만약 1년의 서비스 기간이 종료되면 재판정 절차를 거쳐 서비스 연장의 가능성을 타진...</td>\n",
       "      <td>가사, 간병 방문 지원사업</td>\n",
       "    </tr>\n",
       "    <tr>\n",
       "      <th>2</th>\n",
       "      <td>지역 가족센터에 가면 어떤 도움 받을 수 있나요? 가족희망드림 지원을 받고 싶어서요.</td>\n",
       "      <td>지역 가족센터에서는 가족희망드림 지원 프로그램 신청 절차와 상담, 다양한 가족지원 ...</td>\n",
       "      <td>가족희망드림 지원</td>\n",
       "    </tr>\n",
       "    <tr>\n",
       "      <th>3</th>\n",
       "      <td>두 사람으로 구성된 가구가 국민임대주택에 지원하려면 어던 소득 기준을 충족해야 하나요?</td>\n",
       "      <td>두 사람으로 구성된 가구가 국민임대주택을 지원하기 위해서는 도시근로자 월평균소득의 ...</td>\n",
       "      <td>국민임대주택 공급</td>\n",
       "    </tr>\n",
       "    <tr>\n",
       "      <th>4</th>\n",
       "      <td>국민행복기금 채무조정은 모든 채무자에게 같은 비율로 원금을 감면해주나요?</td>\n",
       "      <td>아니요, 국민행복기금 채무조정은 각 채무자의 상황에 따라 다르게 적용되며, 원금 감...</td>\n",
       "      <td>국민행복기금 채무조정</td>\n",
       "    </tr>\n",
       "    <tr>\n",
       "      <th>...</th>\n",
       "      <td>...</td>\n",
       "      <td>...</td>\n",
       "      <td>...</td>\n",
       "    </tr>\n",
       "    <tr>\n",
       "      <th>455</th>\n",
       "      <td>조손가족도 한부모가족 아동 양육비 지원을 신청할 수 있나요?</td>\n",
       "      <td>네, 조손가족도 소득인정액이 기준 중위소득의 60% 이하일 경우 한부모가족과 동일하...</td>\n",
       "      <td>한부모가족 아동 양육비 지원</td>\n",
       "    </tr>\n",
       "    <tr>\n",
       "      <th>456</th>\n",
       "      <td>한부모가족인데, 자녀 교육비 지원을 온라인으로 신청하는 방법을 알려주세요.</td>\n",
       "      <td>온라인 신청은 복지로 사이트 또는 교육비원클릭시스템에서 할 수 있습니다. 해당 사이...</td>\n",
       "      <td>한부모가족 자녀 교육비 지원</td>\n",
       "    </tr>\n",
       "    <tr>\n",
       "      <th>457</th>\n",
       "      <td>주거 환경을 개선하고 싶은 한부모 가정입니다. 어떤 상담 서비스를 이용할 수 있나요?</td>\n",
       "      <td>한부모 가정을 위한 공동생활가정형 가족상담전화를 이용하실 수 있습니다. 여기서 생활...</td>\n",
       "      <td>한부모가족 주거 지원, 주택분양 및 임대</td>\n",
       "    </tr>\n",
       "    <tr>\n",
       "      <th>458</th>\n",
       "      <td>나병 환자들에게 제공되는 복지혜택은 어떤 것이 있나요?</td>\n",
       "      <td>한센인 피해자, 즉 나병 환자들에게는 의료 지원, 재활 프로그램, 심리적 상담 서비...</td>\n",
       "      <td>한센인 피해자 지원</td>\n",
       "    </tr>\n",
       "    <tr>\n",
       "      <th>459</th>\n",
       "      <td>성폭력 피해자에게 제공되는 사회적 지원 내용은 무엇인가요?</td>\n",
       "      <td>사회적 지원으로는 외부기관 및 자원과의 연계, 돌봄비 지원 등이 있으며, 이는 피해...</td>\n",
       "      <td>해바라기센터, 성폭력 피해자 통합지원센터 운영</td>\n",
       "    </tr>\n",
       "  </tbody>\n",
       "</table>\n",
       "<p>460 rows × 3 columns</p>\n",
       "</div>"
      ],
      "text/plain": [
       "                                             Question  \\\n",
       "0          LPG용기를 쓰는 우리 집을 위한 시설 개선 신청은 어디서 할 수 있을까요?   \n",
       "1           가사, 간병 방문 지원사업이 1년 후에 종료되면, 다시 신청할 수 있나요?   \n",
       "2     지역 가족센터에 가면 어떤 도움 받을 수 있나요? 가족희망드림 지원을 받고 싶어서요.   \n",
       "3    두 사람으로 구성된 가구가 국민임대주택에 지원하려면 어던 소득 기준을 충족해야 하나요?   \n",
       "4            국민행복기금 채무조정은 모든 채무자에게 같은 비율로 원금을 감면해주나요?   \n",
       "..                                                ...   \n",
       "455                 조손가족도 한부모가족 아동 양육비 지원을 신청할 수 있나요?   \n",
       "456         한부모가족인데, 자녀 교육비 지원을 온라인으로 신청하는 방법을 알려주세요.   \n",
       "457   주거 환경을 개선하고 싶은 한부모 가정입니다. 어떤 상담 서비스를 이용할 수 있나요?   \n",
       "458                    나병 환자들에게 제공되는 복지혜택은 어떤 것이 있나요?   \n",
       "459                  성폭력 피해자에게 제공되는 사회적 지원 내용은 무엇인가요?   \n",
       "\n",
       "                                                Answer  \\\n",
       "0    귀하의 가정을 위한 LPG용기 시설 개선 신청은 가장 가까운 읍면동 주민센터(행정복...   \n",
       "1    만약 1년의 서비스 기간이 종료되면 재판정 절차를 거쳐 서비스 연장의 가능성을 타진...   \n",
       "2    지역 가족센터에서는 가족희망드림 지원 프로그램 신청 절차와 상담, 다양한 가족지원 ...   \n",
       "3    두 사람으로 구성된 가구가 국민임대주택을 지원하기 위해서는 도시근로자 월평균소득의 ...   \n",
       "4    아니요, 국민행복기금 채무조정은 각 채무자의 상황에 따라 다르게 적용되며, 원금 감...   \n",
       "..                                                 ...   \n",
       "455  네, 조손가족도 소득인정액이 기준 중위소득의 60% 이하일 경우 한부모가족과 동일하...   \n",
       "456  온라인 신청은 복지로 사이트 또는 교육비원클릭시스템에서 할 수 있습니다. 해당 사이...   \n",
       "457  한부모 가정을 위한 공동생활가정형 가족상담전화를 이용하실 수 있습니다. 여기서 생활...   \n",
       "458  한센인 피해자, 즉 나병 환자들에게는 의료 지원, 재활 프로그램, 심리적 상담 서비...   \n",
       "459  사회적 지원으로는 외부기관 및 자원과의 연계, 돌봄비 지원 등이 있으며, 이는 피해...   \n",
       "\n",
       "                     Documents  \n",
       "0              LPG용기 사용가구 시설개선  \n",
       "1               가사, 간병 방문 지원사업  \n",
       "2                    가족희망드림 지원  \n",
       "3                    국민임대주택 공급  \n",
       "4                  국민행복기금 채무조정  \n",
       "..                         ...  \n",
       "455            한부모가족 아동 양육비 지원  \n",
       "456            한부모가족 자녀 교육비 지원  \n",
       "457     한부모가족 주거 지원, 주택분양 및 임대  \n",
       "458                 한센인 피해자 지원  \n",
       "459  해바라기센터, 성폭력 피해자 통합지원센터 운영  \n",
       "\n",
       "[460 rows x 3 columns]"
      ]
     },
     "execution_count": 17,
     "metadata": {},
     "output_type": "execute_result"
    }
   ],
   "source": [
    "selected_items_df"
   ]
  },
  {
   "cell_type": "code",
   "execution_count": 20,
   "metadata": {},
   "outputs": [],
   "source": [
    "selected_items_df.to_csv(\"random_select_qa.csv\", encoding=\"utf-8\", index=False)"
   ]
  },
  {
   "cell_type": "code",
   "execution_count": null,
   "metadata": {},
   "outputs": [],
   "source": []
  }
 ],
 "metadata": {
  "kernelspec": {
   "display_name": "py3.10.13",
   "language": "python",
   "name": "python3"
  },
  "language_info": {
   "codemirror_mode": {
    "name": "ipython",
    "version": 3
   },
   "file_extension": ".py",
   "mimetype": "text/x-python",
   "name": "python",
   "nbconvert_exporter": "python",
   "pygments_lexer": "ipython3",
   "version": "3.10.13"
  }
 },
 "nbformat": 4,
 "nbformat_minor": 2
}
